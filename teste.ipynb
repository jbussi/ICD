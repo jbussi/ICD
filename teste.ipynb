{
 "cells": [
  {
   "cell_type": "markdown",
   "id": "c44e0653",
   "metadata": {},
   "source": [
    "Código para a obter a lista de tickers que já participaram do S&P 500."
   ]
  },
  {
   "cell_type": "markdown",
   "id": "da543ae4",
   "metadata": {},
   "source": [
    "Listas Iniciais"
   ]
  },
  {
   "cell_type": "code",
   "execution_count": null,
   "id": "cb04ac17",
   "metadata": {},
   "outputs": [],
   "source": [
    "import pandas as pd\n",
    "import requests\n",
    "\n",
    "# URL da página da Wikipedia\n",
    "url = \"https://en.wikipedia.org/wiki/List_of_S%26P_500_companies\"\n",
    "\n",
    "headers = {\"User-Agent\": \"Mozilla/5.0\"}\n",
    "response = requests.get(url, headers=headers)\n",
    "\n",
    "# Ler tabelas\n",
    "tables = pd.read_html(response.text, header=[0, 1])  # <- pega os dois níveis do cabeçalho\n",
    "\n",
    "# Empresas atuais\n",
    "df_current = tables[0][[\"Symbol\", \"Security\"]].copy()\n",
    "df_current.columns = [\"Ticker\", \"Security\"]\n",
    "df_current[\"Status\"] = \"current\"\n",
    "\n",
    "# Histórico de mudanças (com MultiIndex)\n",
    "df_changes = tables[1]\n",
    "\n",
    "# Achatar os nomes de coluna (ex: (\"Added\",\"Ticker\") -> \"Added_Ticker\")\n",
    "df_changes.columns = ['_'.join(col).strip() for col in df_changes.columns.values]\n",
    "\n",
    "# \"Added\" -> Ticker e Security\n",
    "df_added = df_changes[[\"Added_Ticker\", \"Added_Security\"]].copy()\n",
    "df_added.columns = [\"Ticker\", \"Security\"]\n",
    "df_added[\"Status\"] = \"added\"\n",
    "\n",
    "# \"Removed\" -> Ticker e Security\n",
    "df_removed = df_changes[[\"Removed_Ticker\", \"Removed_Security\"]].copy()\n",
    "df_removed.columns = [\"Ticker\", \"Security\"]\n",
    "df_removed[\"Status\"] = \"removed\"\n",
    "\n",
    "# Concatenar tudo\n",
    "df_all = pd.concat([df_current, df_added, df_removed], ignore_index=True)\n",
    "\n",
    "# Remover duplicados\n",
    "df_all = df_all.dropna(subset=[\"Ticker\"]).drop_duplicates()\n",
    "df_all = df_all.dropna(subset=[\"Ticker\"]).drop_duplicates(subset=[\"Ticker\"], keep=\"first\")\n",
    "df_all.loc[df_all[\"Status\"] != \"current\", \"Status\"] = \"removed\"\n",
    "df_all = df_all.sort_values(\"Ticker\").reset_index(drop=True)\n",
    "df_all.to_csv(\"sp500_historical_list.csv\", index=False)\n",
    "\n",
    "print(df_all.head(20))"
   ]
  },
  {
   "cell_type": "markdown",
   "id": "294690b7",
   "metadata": {},
   "source": [
    "Filtrar tickers válidos"
   ]
  },
  {
   "cell_type": "code",
   "execution_count": null,
   "id": "4717ddc8",
   "metadata": {},
   "outputs": [],
   "source": [
    "import yfinance as yf\n",
    "import pandas as pd\n",
    "\n",
    "# Ler CSV\n",
    "df_all = pd.read_csv(\"sp500_historical_list.csv\")\n",
    "\n",
    "# Lista de tickers\n",
    "tickers = df_all[\"Ticker\"].tolist()\n",
    "\n",
    "# Função para testar se o ticker é válido\n",
    "def check_ticker(ticker):\n",
    "    try:\n",
    "        data = yf.Ticker(ticker).history(period=\"1d\")\n",
    "        return not data.empty\n",
    "    except Exception:\n",
    "        return False\n",
    "\n",
    "# Verificar todos os tickers\n",
    "validity = {ticker: check_ticker(ticker) for ticker in tickers}\n",
    "\n",
    "# Criar DataFrame com resultados\n",
    "df_validity = pd.DataFrame(list(validity.items()), columns=[\"Ticker\", \"Valid\"])\n",
    "print(df_validity.head())\n",
    "\n",
    "# Filtrar apenas tickers válidos\n",
    "valid_tickers = df_validity[df_validity[\"Valid\"]][\"Ticker\"].tolist()\n",
    "\n",
    "df_validity.to_csv(\"tickers_validity.csv\", index=False)\n",
    "pd.DataFrame(valid_tickers, columns=[\"Ticker\"]).to_csv(\"valid_tickers.csv\", index=False)\n",
    "\n",
    "print(f\"Número de tickers válidos: {len(valid_tickers)}\")"
   ]
  },
  {
   "cell_type": "markdown",
   "id": "cb311bb9",
   "metadata": {},
   "source": [
    "Encontrar informações sobre os tickers inválidos"
   ]
  },
  {
   "cell_type": "code",
   "execution_count": null,
   "id": "c25be103",
   "metadata": {},
   "outputs": [],
   "source": [
    "import pandas as pd\n",
    "import yfinance as yf\n",
    "\n",
    "# Ler CSVs\n",
    "df_all = pd.read_csv(\"sp500_historical_list.csv\")\n",
    "df_validity = pd.read_csv(\"tickers_validity.csv\")\n",
    "\n",
    "# Tickers válidos e inválidos\n",
    "valid_tickers = df_validity[df_validity[\"Valid\"] == True][\"Ticker\"].tolist()\n",
    "invalid_tickers = df_validity[df_validity[\"Valid\"] == False][\"Ticker\"].tolist()\n",
    "\n",
    "print(f\"Tickers válidos: {len(valid_tickers)}\")\n",
    "print(f\"Tickers inválidos: {len(invalid_tickers)}\")\n",
    "\n",
    "# Função para tentar buscar informações de tickers inválidos\n",
    "def get_info(ticker):\n",
    "    try:\n",
    "        t = yf.Ticker(ticker)\n",
    "        info = t.info\n",
    "        if info and \"longName\" in info:\n",
    "            return {\"Ticker\": ticker, \"Found\": True, \"Name\": info.get(\"longName\"), \"Exchange\": info.get(\"exchange\")}\n",
    "        else:\n",
    "            return {\"Ticker\": ticker, \"Found\": False, \"Name\": None, \"Exchange\": None}\n",
    "    except Exception:\n",
    "        return {\"Ticker\": ticker, \"Found\": False, \"Name\": None, \"Exchange\": None}\n",
    "\n",
    "# Rodar análise nos inválidos\n",
    "results = [get_info(ticker) for ticker in invalid_tickers]\n",
    "\n",
    "# Criar DataFrame com resultados\n",
    "df_invalid_analysis = pd.DataFrame(results)\n",
    "df_invalid_analysis.to_csv(\"tickers_invalid_analysis.csv\", index=False)\n",
    "\n",
    "print(df_invalid_analysis.head())"
   ]
  },
  {
   "cell_type": "markdown",
   "id": "3b3b74f6",
   "metadata": {},
   "source": [
    "obter dados dos tickers válidos"
   ]
  },
  {
   "cell_type": "code",
   "execution_count": 3,
   "id": "b3ec2108",
   "metadata": {},
   "outputs": [
    {
     "name": "stdout",
     "output_type": "stream",
     "text": [
      "✅ A coletado\n"
     ]
    },
    {
     "name": "stderr",
     "output_type": "stream",
     "text": [
      "C:\\Users\\João Paulo Bussi\\AppData\\Local\\Temp\\ipykernel_12892\\3221935595.py:42: FutureWarning: The behavior of DataFrame concatenation with empty or all-NA entries is deprecated. In a future version, this will no longer exclude empty or all-NA columns when determining the result dtypes. To retain the old behavior, exclude the relevant entries before the concat operation.\n",
      "  df_info = pd.concat([df_info, pd.DataFrame([info])], ignore_index=True)\n"
     ]
    },
    {
     "name": "stdout",
     "output_type": "stream",
     "text": [
      "✅ AA coletado\n",
      "✅ AAL coletado\n",
      "✅ AAP coletado\n",
      "✅ AAPL coletado\n",
      "✅ ABBV coletado\n",
      "✅ ABNB coletado\n"
     ]
    },
    {
     "name": "stderr",
     "output_type": "stream",
     "text": [
      "C:\\Users\\João Paulo Bussi\\AppData\\Local\\Temp\\ipykernel_12892\\3221935595.py:42: FutureWarning: The behavior of DataFrame concatenation with empty or all-NA entries is deprecated. In a future version, this will no longer exclude empty or all-NA columns when determining the result dtypes. To retain the old behavior, exclude the relevant entries before the concat operation.\n",
      "  df_info = pd.concat([df_info, pd.DataFrame([info])], ignore_index=True)\n"
     ]
    },
    {
     "name": "stdout",
     "output_type": "stream",
     "text": [
      "✅ ABT coletado\n"
     ]
    },
    {
     "name": "stderr",
     "output_type": "stream",
     "text": [
      "C:\\Users\\João Paulo Bussi\\AppData\\Local\\Temp\\ipykernel_12892\\3221935595.py:42: FutureWarning: The behavior of DataFrame concatenation with empty or all-NA entries is deprecated. In a future version, this will no longer exclude empty or all-NA columns when determining the result dtypes. To retain the old behavior, exclude the relevant entries before the concat operation.\n",
      "  df_info = pd.concat([df_info, pd.DataFrame([info])], ignore_index=True)\n"
     ]
    },
    {
     "name": "stdout",
     "output_type": "stream",
     "text": [
      "✅ ACGL coletado\n",
      "✅ ACN coletado\n"
     ]
    },
    {
     "name": "stderr",
     "output_type": "stream",
     "text": [
      "C:\\Users\\João Paulo Bussi\\AppData\\Local\\Temp\\ipykernel_12892\\3221935595.py:42: FutureWarning: The behavior of DataFrame concatenation with empty or all-NA entries is deprecated. In a future version, this will no longer exclude empty or all-NA columns when determining the result dtypes. To retain the old behavior, exclude the relevant entries before the concat operation.\n",
      "  df_info = pd.concat([df_info, pd.DataFrame([info])], ignore_index=True)\n"
     ]
    },
    {
     "name": "stdout",
     "output_type": "stream",
     "text": [
      "✅ ACT coletado\n",
      "✅ ADBE coletado\n"
     ]
    },
    {
     "name": "stderr",
     "output_type": "stream",
     "text": [
      "C:\\Users\\João Paulo Bussi\\AppData\\Local\\Temp\\ipykernel_12892\\3221935595.py:42: FutureWarning: The behavior of DataFrame concatenation with empty or all-NA entries is deprecated. In a future version, this will no longer exclude empty or all-NA columns when determining the result dtypes. To retain the old behavior, exclude the relevant entries before the concat operation.\n",
      "  df_info = pd.concat([df_info, pd.DataFrame([info])], ignore_index=True)\n"
     ]
    },
    {
     "name": "stdout",
     "output_type": "stream",
     "text": [
      "✅ ADCT coletado\n",
      "✅ ADI coletado\n"
     ]
    },
    {
     "name": "stderr",
     "output_type": "stream",
     "text": [
      "C:\\Users\\João Paulo Bussi\\AppData\\Local\\Temp\\ipykernel_12892\\3221935595.py:42: FutureWarning: The behavior of DataFrame concatenation with empty or all-NA entries is deprecated. In a future version, this will no longer exclude empty or all-NA columns when determining the result dtypes. To retain the old behavior, exclude the relevant entries before the concat operation.\n",
      "  df_info = pd.concat([df_info, pd.DataFrame([info])], ignore_index=True)\n"
     ]
    },
    {
     "name": "stdout",
     "output_type": "stream",
     "text": [
      "✅ ADM coletado\n",
      "✅ ADP coletado\n",
      "✅ ADSK coletado\n"
     ]
    },
    {
     "name": "stderr",
     "output_type": "stream",
     "text": [
      "C:\\Users\\João Paulo Bussi\\AppData\\Local\\Temp\\ipykernel_12892\\3221935595.py:42: FutureWarning: The behavior of DataFrame concatenation with empty or all-NA entries is deprecated. In a future version, this will no longer exclude empty or all-NA columns when determining the result dtypes. To retain the old behavior, exclude the relevant entries before the concat operation.\n",
      "  df_info = pd.concat([df_info, pd.DataFrame([info])], ignore_index=True)\n"
     ]
    },
    {
     "name": "stdout",
     "output_type": "stream",
     "text": [
      "✅ ADT coletado\n",
      "✅ AEE coletado\n",
      "✅ AEP coletado\n"
     ]
    },
    {
     "name": "stderr",
     "output_type": "stream",
     "text": [
      "C:\\Users\\João Paulo Bussi\\AppData\\Local\\Temp\\ipykernel_12892\\3221935595.py:42: FutureWarning: The behavior of DataFrame concatenation with empty or all-NA entries is deprecated. In a future version, this will no longer exclude empty or all-NA columns when determining the result dtypes. To retain the old behavior, exclude the relevant entries before the concat operation.\n",
      "  df_info = pd.concat([df_info, pd.DataFrame([info])], ignore_index=True)\n"
     ]
    },
    {
     "name": "stdout",
     "output_type": "stream",
     "text": [
      "✅ AES coletado\n"
     ]
    },
    {
     "name": "stderr",
     "output_type": "stream",
     "text": [
      "C:\\Users\\João Paulo Bussi\\AppData\\Local\\Temp\\ipykernel_12892\\3221935595.py:42: FutureWarning: The behavior of DataFrame concatenation with empty or all-NA entries is deprecated. In a future version, this will no longer exclude empty or all-NA columns when determining the result dtypes. To retain the old behavior, exclude the relevant entries before the concat operation.\n",
      "  df_info = pd.concat([df_info, pd.DataFrame([info])], ignore_index=True)\n"
     ]
    },
    {
     "name": "stdout",
     "output_type": "stream",
     "text": [
      "✅ AFL coletado\n"
     ]
    },
    {
     "name": "stderr",
     "output_type": "stream",
     "text": [
      "C:\\Users\\João Paulo Bussi\\AppData\\Local\\Temp\\ipykernel_12892\\3221935595.py:42: FutureWarning: The behavior of DataFrame concatenation with empty or all-NA entries is deprecated. In a future version, this will no longer exclude empty or all-NA columns when determining the result dtypes. To retain the old behavior, exclude the relevant entries before the concat operation.\n",
      "  df_info = pd.concat([df_info, pd.DataFrame([info])], ignore_index=True)\n"
     ]
    },
    {
     "name": "stdout",
     "output_type": "stream",
     "text": [
      "✅ AIG coletado\n"
     ]
    },
    {
     "name": "stderr",
     "output_type": "stream",
     "text": [
      "C:\\Users\\João Paulo Bussi\\AppData\\Local\\Temp\\ipykernel_12892\\3221935595.py:42: FutureWarning: The behavior of DataFrame concatenation with empty or all-NA entries is deprecated. In a future version, this will no longer exclude empty or all-NA columns when determining the result dtypes. To retain the old behavior, exclude the relevant entries before the concat operation.\n",
      "  df_info = pd.concat([df_info, pd.DataFrame([info])], ignore_index=True)\n"
     ]
    },
    {
     "name": "stdout",
     "output_type": "stream",
     "text": [
      "✅ AIV coletado\n"
     ]
    },
    {
     "name": "stderr",
     "output_type": "stream",
     "text": [
      "C:\\Users\\João Paulo Bussi\\AppData\\Local\\Temp\\ipykernel_12892\\3221935595.py:42: FutureWarning: The behavior of DataFrame concatenation with empty or all-NA entries is deprecated. In a future version, this will no longer exclude empty or all-NA columns when determining the result dtypes. To retain the old behavior, exclude the relevant entries before the concat operation.\n",
      "  df_info = pd.concat([df_info, pd.DataFrame([info])], ignore_index=True)\n"
     ]
    },
    {
     "name": "stdout",
     "output_type": "stream",
     "text": [
      "✅ AIZ coletado\n",
      "✅ AJG coletado\n",
      "✅ AKAM coletado\n"
     ]
    },
    {
     "name": "stderr",
     "output_type": "stream",
     "text": [
      "C:\\Users\\João Paulo Bussi\\AppData\\Local\\Temp\\ipykernel_12892\\3221935595.py:42: FutureWarning: The behavior of DataFrame concatenation with empty or all-NA entries is deprecated. In a future version, this will no longer exclude empty or all-NA columns when determining the result dtypes. To retain the old behavior, exclude the relevant entries before the concat operation.\n",
      "  df_info = pd.concat([df_info, pd.DataFrame([info])], ignore_index=True)\n"
     ]
    },
    {
     "name": "stdout",
     "output_type": "stream",
     "text": [
      "✅ ALB coletado\n",
      "✅ ALGN coletado\n"
     ]
    },
    {
     "name": "stderr",
     "output_type": "stream",
     "text": [
      "C:\\Users\\João Paulo Bussi\\AppData\\Local\\Temp\\ipykernel_12892\\3221935595.py:42: FutureWarning: The behavior of DataFrame concatenation with empty or all-NA entries is deprecated. In a future version, this will no longer exclude empty or all-NA columns when determining the result dtypes. To retain the old behavior, exclude the relevant entries before the concat operation.\n",
      "  df_info = pd.concat([df_info, pd.DataFrame([info])], ignore_index=True)\n"
     ]
    },
    {
     "name": "stdout",
     "output_type": "stream",
     "text": [
      "✅ ALK coletado\n",
      "✅ ALL coletado\n",
      "✅ ALLE coletado\n",
      "✅ AMAT coletado\n",
      "✅ AMCR coletado\n",
      "✅ AMD coletado\n",
      "✅ AME coletado\n",
      "✅ AMG coletado\n",
      "✅ AMGN coletado\n",
      "✅ AMP coletado\n",
      "✅ AMT coletado\n"
     ]
    },
    {
     "name": "stderr",
     "output_type": "stream",
     "text": [
      "C:\\Users\\João Paulo Bussi\\AppData\\Local\\Temp\\ipykernel_12892\\3221935595.py:42: FutureWarning: The behavior of DataFrame concatenation with empty or all-NA entries is deprecated. In a future version, this will no longer exclude empty or all-NA columns when determining the result dtypes. To retain the old behavior, exclude the relevant entries before the concat operation.\n",
      "  df_info = pd.concat([df_info, pd.DataFrame([info])], ignore_index=True)\n"
     ]
    },
    {
     "name": "stdout",
     "output_type": "stream",
     "text": [
      "✅ AMTM coletado\n",
      "✅ AMZN coletado\n",
      "✅ AN coletado\n",
      "✅ ANET coletado\n"
     ]
    },
    {
     "name": "stderr",
     "output_type": "stream",
     "text": [
      "C:\\Users\\João Paulo Bussi\\AppData\\Local\\Temp\\ipykernel_12892\\3221935595.py:42: FutureWarning: The behavior of DataFrame concatenation with empty or all-NA entries is deprecated. In a future version, this will no longer exclude empty or all-NA columns when determining the result dtypes. To retain the old behavior, exclude the relevant entries before the concat operation.\n",
      "  df_info = pd.concat([df_info, pd.DataFrame([info])], ignore_index=True)\n"
     ]
    },
    {
     "name": "stdout",
     "output_type": "stream",
     "text": [
      "✅ ANF coletado\n",
      "✅ AON coletado\n",
      "✅ AOS coletado\n"
     ]
    },
    {
     "name": "stderr",
     "output_type": "stream",
     "text": [
      "C:\\Users\\João Paulo Bussi\\AppData\\Local\\Temp\\ipykernel_12892\\3221935595.py:42: FutureWarning: The behavior of DataFrame concatenation with empty or all-NA entries is deprecated. In a future version, this will no longer exclude empty or all-NA columns when determining the result dtypes. To retain the old behavior, exclude the relevant entries before the concat operation.\n",
      "  df_info = pd.concat([df_info, pd.DataFrame([info])], ignore_index=True)\n"
     ]
    },
    {
     "name": "stdout",
     "output_type": "stream",
     "text": [
      "✅ APA coletado\n",
      "✅ APD coletado\n",
      "✅ APH coletado\n",
      "50/635 tickers processados\n"
     ]
    },
    {
     "name": "stderr",
     "output_type": "stream",
     "text": [
      "C:\\Users\\João Paulo Bussi\\AppData\\Local\\Temp\\ipykernel_12892\\3221935595.py:42: FutureWarning: The behavior of DataFrame concatenation with empty or all-NA entries is deprecated. In a future version, this will no longer exclude empty or all-NA columns when determining the result dtypes. To retain the old behavior, exclude the relevant entries before the concat operation.\n",
      "  df_info = pd.concat([df_info, pd.DataFrame([info])], ignore_index=True)\n"
     ]
    },
    {
     "name": "stdout",
     "output_type": "stream",
     "text": [
      "✅ APO coletado\n",
      "✅ APTV coletado\n"
     ]
    },
    {
     "name": "stderr",
     "output_type": "stream",
     "text": [
      "C:\\Users\\João Paulo Bussi\\AppData\\Local\\Temp\\ipykernel_12892\\3221935595.py:42: FutureWarning: The behavior of DataFrame concatenation with empty or all-NA entries is deprecated. In a future version, this will no longer exclude empty or all-NA columns when determining the result dtypes. To retain the old behavior, exclude the relevant entries before the concat operation.\n",
      "  df_info = pd.concat([df_info, pd.DataFrame([info])], ignore_index=True)\n"
     ]
    },
    {
     "name": "stdout",
     "output_type": "stream",
     "text": [
      "✅ ARE coletado\n"
     ]
    },
    {
     "name": "stderr",
     "output_type": "stream",
     "text": [
      "C:\\Users\\João Paulo Bussi\\AppData\\Local\\Temp\\ipykernel_12892\\3221935595.py:42: FutureWarning: The behavior of DataFrame concatenation with empty or all-NA entries is deprecated. In a future version, this will no longer exclude empty or all-NA columns when determining the result dtypes. To retain the old behavior, exclude the relevant entries before the concat operation.\n",
      "  df_info = pd.concat([df_info, pd.DataFrame([info])], ignore_index=True)\n"
     ]
    },
    {
     "name": "stdout",
     "output_type": "stream",
     "text": [
      "✅ ATI coletado\n",
      "✅ ATO coletado\n",
      "✅ AVB coletado\n",
      "✅ AVGO coletado\n",
      "✅ AVY coletado\n",
      "✅ AWK coletado\n"
     ]
    },
    {
     "name": "stderr",
     "output_type": "stream",
     "text": [
      "C:\\Users\\João Paulo Bussi\\AppData\\Local\\Temp\\ipykernel_12892\\3221935595.py:42: FutureWarning: The behavior of DataFrame concatenation with empty or all-NA entries is deprecated. In a future version, this will no longer exclude empty or all-NA columns when determining the result dtypes. To retain the old behavior, exclude the relevant entries before the concat operation.\n",
      "  df_info = pd.concat([df_info, pd.DataFrame([info])], ignore_index=True)\n"
     ]
    },
    {
     "name": "stdout",
     "output_type": "stream",
     "text": [
      "✅ AXON coletado\n",
      "✅ AXP coletado\n",
      "✅ AYI coletado\n",
      "✅ AZO coletado\n"
     ]
    },
    {
     "name": "stderr",
     "output_type": "stream",
     "text": [
      "C:\\Users\\João Paulo Bussi\\AppData\\Local\\Temp\\ipykernel_12892\\3221935595.py:42: FutureWarning: The behavior of DataFrame concatenation with empty or all-NA entries is deprecated. In a future version, this will no longer exclude empty or all-NA columns when determining the result dtypes. To retain the old behavior, exclude the relevant entries before the concat operation.\n",
      "  df_info = pd.concat([df_info, pd.DataFrame([info])], ignore_index=True)\n"
     ]
    },
    {
     "name": "stdout",
     "output_type": "stream",
     "text": [
      "✅ BA coletado\n",
      "✅ BAC coletado\n"
     ]
    },
    {
     "name": "stderr",
     "output_type": "stream",
     "text": [
      "C:\\Users\\João Paulo Bussi\\AppData\\Local\\Temp\\ipykernel_12892\\3221935595.py:42: FutureWarning: The behavior of DataFrame concatenation with empty or all-NA entries is deprecated. In a future version, this will no longer exclude empty or all-NA columns when determining the result dtypes. To retain the old behavior, exclude the relevant entries before the concat operation.\n",
      "  df_info = pd.concat([df_info, pd.DataFrame([info])], ignore_index=True)\n"
     ]
    },
    {
     "name": "stdout",
     "output_type": "stream",
     "text": [
      "✅ BALL coletado\n"
     ]
    },
    {
     "name": "stderr",
     "output_type": "stream",
     "text": [
      "C:\\Users\\João Paulo Bussi\\AppData\\Local\\Temp\\ipykernel_12892\\3221935595.py:42: FutureWarning: The behavior of DataFrame concatenation with empty or all-NA entries is deprecated. In a future version, this will no longer exclude empty or all-NA columns when determining the result dtypes. To retain the old behavior, exclude the relevant entries before the concat operation.\n",
      "  df_info = pd.concat([df_info, pd.DataFrame([info])], ignore_index=True)\n"
     ]
    },
    {
     "name": "stdout",
     "output_type": "stream",
     "text": [
      "✅ BAX coletado\n"
     ]
    },
    {
     "name": "stderr",
     "output_type": "stream",
     "text": [
      "C:\\Users\\João Paulo Bussi\\AppData\\Local\\Temp\\ipykernel_12892\\3221935595.py:42: FutureWarning: The behavior of DataFrame concatenation with empty or all-NA entries is deprecated. In a future version, this will no longer exclude empty or all-NA columns when determining the result dtypes. To retain the old behavior, exclude the relevant entries before the concat operation.\n",
      "  df_info = pd.concat([df_info, pd.DataFrame([info])], ignore_index=True)\n"
     ]
    },
    {
     "name": "stdout",
     "output_type": "stream",
     "text": [
      "✅ BBBY coletado\n",
      "✅ BBWI coletado\n",
      "✅ BBY coletado\n",
      "✅ BC coletado\n",
      "✅ BDX coletado\n"
     ]
    },
    {
     "name": "stderr",
     "output_type": "stream",
     "text": [
      "C:\\Users\\João Paulo Bussi\\AppData\\Local\\Temp\\ipykernel_12892\\3221935595.py:42: FutureWarning: The behavior of DataFrame concatenation with empty or all-NA entries is deprecated. In a future version, this will no longer exclude empty or all-NA columns when determining the result dtypes. To retain the old behavior, exclude the relevant entries before the concat operation.\n",
      "  df_info = pd.concat([df_info, pd.DataFrame([info])], ignore_index=True)\n"
     ]
    },
    {
     "name": "stdout",
     "output_type": "stream",
     "text": [
      "✅ BEAM coletado\n",
      "✅ BEN coletado\n"
     ]
    },
    {
     "name": "stderr",
     "output_type": "stream",
     "text": [
      "C:\\Users\\João Paulo Bussi\\AppData\\Local\\Temp\\ipykernel_12892\\3221935595.py:42: FutureWarning: The behavior of DataFrame concatenation with empty or all-NA entries is deprecated. In a future version, this will no longer exclude empty or all-NA columns when determining the result dtypes. To retain the old behavior, exclude the relevant entries before the concat operation.\n",
      "  df_info = pd.concat([df_info, pd.DataFrame([info])], ignore_index=True)\n"
     ]
    },
    {
     "name": "stdout",
     "output_type": "stream",
     "text": [
      "✅ BG coletado\n"
     ]
    },
    {
     "name": "stderr",
     "output_type": "stream",
     "text": [
      "C:\\Users\\João Paulo Bussi\\AppData\\Local\\Temp\\ipykernel_12892\\3221935595.py:42: FutureWarning: The behavior of DataFrame concatenation with empty or all-NA entries is deprecated. In a future version, this will no longer exclude empty or all-NA columns when determining the result dtypes. To retain the old behavior, exclude the relevant entries before the concat operation.\n",
      "  df_info = pd.concat([df_info, pd.DataFrame([info])], ignore_index=True)\n"
     ]
    },
    {
     "name": "stdout",
     "output_type": "stream",
     "text": [
      "✅ BHF coletado\n"
     ]
    },
    {
     "name": "stderr",
     "output_type": "stream",
     "text": [
      "C:\\Users\\João Paulo Bussi\\AppData\\Local\\Temp\\ipykernel_12892\\3221935595.py:42: FutureWarning: The behavior of DataFrame concatenation with empty or all-NA entries is deprecated. In a future version, this will no longer exclude empty or all-NA columns when determining the result dtypes. To retain the old behavior, exclude the relevant entries before the concat operation.\n",
      "  df_info = pd.concat([df_info, pd.DataFrame([info])], ignore_index=True)\n"
     ]
    },
    {
     "name": "stdout",
     "output_type": "stream",
     "text": [
      "✅ BIIB coletado\n"
     ]
    },
    {
     "name": "stderr",
     "output_type": "stream",
     "text": [
      "C:\\Users\\João Paulo Bussi\\AppData\\Local\\Temp\\ipykernel_12892\\3221935595.py:42: FutureWarning: The behavior of DataFrame concatenation with empty or all-NA entries is deprecated. In a future version, this will no longer exclude empty or all-NA columns when determining the result dtypes. To retain the old behavior, exclude the relevant entries before the concat operation.\n",
      "  df_info = pd.concat([df_info, pd.DataFrame([info])], ignore_index=True)\n"
     ]
    },
    {
     "name": "stdout",
     "output_type": "stream",
     "text": [
      "✅ BIO coletado\n",
      "✅ BK coletado\n",
      "✅ BKNG coletado\n",
      "✅ BKR coletado\n"
     ]
    },
    {
     "name": "stderr",
     "output_type": "stream",
     "text": [
      "C:\\Users\\João Paulo Bussi\\AppData\\Local\\Temp\\ipykernel_12892\\3221935595.py:42: FutureWarning: The behavior of DataFrame concatenation with empty or all-NA entries is deprecated. In a future version, this will no longer exclude empty or all-NA columns when determining the result dtypes. To retain the old behavior, exclude the relevant entries before the concat operation.\n",
      "  df_info = pd.concat([df_info, pd.DataFrame([info])], ignore_index=True)\n"
     ]
    },
    {
     "name": "stdout",
     "output_type": "stream",
     "text": [
      "✅ BLDR coletado\n",
      "✅ BLK coletado\n"
     ]
    },
    {
     "name": "stderr",
     "output_type": "stream",
     "text": [
      "C:\\Users\\João Paulo Bussi\\AppData\\Local\\Temp\\ipykernel_12892\\3221935595.py:42: FutureWarning: The behavior of DataFrame concatenation with empty or all-NA entries is deprecated. In a future version, this will no longer exclude empty or all-NA columns when determining the result dtypes. To retain the old behavior, exclude the relevant entries before the concat operation.\n",
      "  df_info = pd.concat([df_info, pd.DataFrame([info])], ignore_index=True)\n"
     ]
    },
    {
     "name": "stdout",
     "output_type": "stream",
     "text": [
      "✅ BMY coletado\n",
      "✅ BR coletado\n"
     ]
    },
    {
     "name": "stderr",
     "output_type": "stream",
     "text": [
      "C:\\Users\\João Paulo Bussi\\AppData\\Local\\Temp\\ipykernel_12892\\3221935595.py:42: FutureWarning: The behavior of DataFrame concatenation with empty or all-NA entries is deprecated. In a future version, this will no longer exclude empty or all-NA columns when determining the result dtypes. To retain the old behavior, exclude the relevant entries before the concat operation.\n",
      "  df_info = pd.concat([df_info, pd.DataFrame([info])], ignore_index=True)\n"
     ]
    },
    {
     "name": "stdout",
     "output_type": "stream",
     "text": [
      "✅ BRO coletado\n",
      "✅ BSX coletado\n"
     ]
    },
    {
     "name": "stderr",
     "output_type": "stream",
     "text": [
      "C:\\Users\\João Paulo Bussi\\AppData\\Local\\Temp\\ipykernel_12892\\3221935595.py:42: FutureWarning: The behavior of DataFrame concatenation with empty or all-NA entries is deprecated. In a future version, this will no longer exclude empty or all-NA columns when determining the result dtypes. To retain the old behavior, exclude the relevant entries before the concat operation.\n",
      "  df_info = pd.concat([df_info, pd.DataFrame([info])], ignore_index=True)\n"
     ]
    },
    {
     "name": "stdout",
     "output_type": "stream",
     "text": [
      "✅ BTU coletado\n",
      "✅ BUD coletado\n"
     ]
    },
    {
     "name": "stderr",
     "output_type": "stream",
     "text": [
      "C:\\Users\\João Paulo Bussi\\AppData\\Local\\Temp\\ipykernel_12892\\3221935595.py:42: FutureWarning: The behavior of DataFrame concatenation with empty or all-NA entries is deprecated. In a future version, this will no longer exclude empty or all-NA columns when determining the result dtypes. To retain the old behavior, exclude the relevant entries before the concat operation.\n",
      "  df_info = pd.concat([df_info, pd.DataFrame([info])], ignore_index=True)\n"
     ]
    },
    {
     "name": "stdout",
     "output_type": "stream",
     "text": [
      "✅ BWA coletado\n",
      "✅ BX coletado\n",
      "✅ BXP coletado\n",
      "✅ C coletado\n"
     ]
    },
    {
     "name": "stderr",
     "output_type": "stream",
     "text": [
      "C:\\Users\\João Paulo Bussi\\AppData\\Local\\Temp\\ipykernel_12892\\3221935595.py:42: FutureWarning: The behavior of DataFrame concatenation with empty or all-NA entries is deprecated. In a future version, this will no longer exclude empty or all-NA columns when determining the result dtypes. To retain the old behavior, exclude the relevant entries before the concat operation.\n",
      "  df_info = pd.concat([df_info, pd.DataFrame([info])], ignore_index=True)\n"
     ]
    },
    {
     "name": "stdout",
     "output_type": "stream",
     "text": [
      "✅ CA coletado\n",
      "✅ CAG coletado\n",
      "✅ CAH coletado\n",
      "✅ CARR coletado\n",
      "✅ CAT coletado\n",
      "✅ CB coletado\n",
      "✅ CBOE coletado\n",
      "100/635 tickers processados\n",
      "✅ CBRE coletado\n",
      "✅ CCI coletado\n",
      "✅ CCK coletado\n"
     ]
    },
    {
     "name": "stderr",
     "output_type": "stream",
     "text": [
      "C:\\Users\\João Paulo Bussi\\AppData\\Local\\Temp\\ipykernel_12892\\3221935595.py:42: FutureWarning: The behavior of DataFrame concatenation with empty or all-NA entries is deprecated. In a future version, this will no longer exclude empty or all-NA columns when determining the result dtypes. To retain the old behavior, exclude the relevant entries before the concat operation.\n",
      "  df_info = pd.concat([df_info, pd.DataFrame([info])], ignore_index=True)\n"
     ]
    },
    {
     "name": "stdout",
     "output_type": "stream",
     "text": [
      "✅ CCL coletado\n",
      "✅ CDNS coletado\n"
     ]
    },
    {
     "name": "stderr",
     "output_type": "stream",
     "text": [
      "C:\\Users\\João Paulo Bussi\\AppData\\Local\\Temp\\ipykernel_12892\\3221935595.py:42: FutureWarning: The behavior of DataFrame concatenation with empty or all-NA entries is deprecated. In a future version, this will no longer exclude empty or all-NA columns when determining the result dtypes. To retain the old behavior, exclude the relevant entries before the concat operation.\n",
      "  df_info = pd.concat([df_info, pd.DataFrame([info])], ignore_index=True)\n"
     ]
    },
    {
     "name": "stdout",
     "output_type": "stream",
     "text": [
      "✅ CDW coletado\n"
     ]
    },
    {
     "name": "stderr",
     "output_type": "stream",
     "text": [
      "C:\\Users\\João Paulo Bussi\\AppData\\Local\\Temp\\ipykernel_12892\\3221935595.py:42: FutureWarning: The behavior of DataFrame concatenation with empty or all-NA entries is deprecated. In a future version, this will no longer exclude empty or all-NA columns when determining the result dtypes. To retain the old behavior, exclude the relevant entries before the concat operation.\n",
      "  df_info = pd.concat([df_info, pd.DataFrame([info])], ignore_index=True)\n"
     ]
    },
    {
     "name": "stdout",
     "output_type": "stream",
     "text": [
      "✅ CE coletado\n"
     ]
    },
    {
     "name": "stderr",
     "output_type": "stream",
     "text": [
      "C:\\Users\\João Paulo Bussi\\AppData\\Local\\Temp\\ipykernel_12892\\3221935595.py:42: FutureWarning: The behavior of DataFrame concatenation with empty or all-NA entries is deprecated. In a future version, this will no longer exclude empty or all-NA columns when determining the result dtypes. To retain the old behavior, exclude the relevant entries before the concat operation.\n",
      "  df_info = pd.concat([df_info, pd.DataFrame([info])], ignore_index=True)\n"
     ]
    },
    {
     "name": "stdout",
     "output_type": "stream",
     "text": [
      "✅ CEG coletado\n",
      "✅ CF coletado\n"
     ]
    },
    {
     "name": "stderr",
     "output_type": "stream",
     "text": [
      "C:\\Users\\João Paulo Bussi\\AppData\\Local\\Temp\\ipykernel_12892\\3221935595.py:42: FutureWarning: The behavior of DataFrame concatenation with empty or all-NA entries is deprecated. In a future version, this will no longer exclude empty or all-NA columns when determining the result dtypes. To retain the old behavior, exclude the relevant entries before the concat operation.\n",
      "  df_info = pd.concat([df_info, pd.DataFrame([info])], ignore_index=True)\n"
     ]
    },
    {
     "name": "stdout",
     "output_type": "stream",
     "text": [
      "✅ CFG coletado\n",
      "✅ CHD coletado\n",
      "✅ CHRW coletado\n",
      "✅ CHTR coletado\n",
      "✅ CI coletado\n"
     ]
    },
    {
     "name": "stderr",
     "output_type": "stream",
     "text": [
      "C:\\Users\\João Paulo Bussi\\AppData\\Local\\Temp\\ipykernel_12892\\3221935595.py:42: FutureWarning: The behavior of DataFrame concatenation with empty or all-NA entries is deprecated. In a future version, this will no longer exclude empty or all-NA columns when determining the result dtypes. To retain the old behavior, exclude the relevant entries before the concat operation.\n",
      "  df_info = pd.concat([df_info, pd.DataFrame([info])], ignore_index=True)\n"
     ]
    },
    {
     "name": "stdout",
     "output_type": "stream",
     "text": [
      "✅ CIEN coletado\n"
     ]
    },
    {
     "name": "stderr",
     "output_type": "stream",
     "text": [
      "C:\\Users\\João Paulo Bussi\\AppData\\Local\\Temp\\ipykernel_12892\\3221935595.py:42: FutureWarning: The behavior of DataFrame concatenation with empty or all-NA entries is deprecated. In a future version, this will no longer exclude empty or all-NA columns when determining the result dtypes. To retain the old behavior, exclude the relevant entries before the concat operation.\n",
      "  df_info = pd.concat([df_info, pd.DataFrame([info])], ignore_index=True)\n"
     ]
    },
    {
     "name": "stdout",
     "output_type": "stream",
     "text": [
      "✅ CINF coletado\n",
      "✅ CL coletado\n"
     ]
    },
    {
     "name": "stderr",
     "output_type": "stream",
     "text": [
      "C:\\Users\\João Paulo Bussi\\AppData\\Local\\Temp\\ipykernel_12892\\3221935595.py:42: FutureWarning: The behavior of DataFrame concatenation with empty or all-NA entries is deprecated. In a future version, this will no longer exclude empty or all-NA columns when determining the result dtypes. To retain the old behavior, exclude the relevant entries before the concat operation.\n",
      "  df_info = pd.concat([df_info, pd.DataFrame([info])], ignore_index=True)\n"
     ]
    },
    {
     "name": "stdout",
     "output_type": "stream",
     "text": [
      "✅ CLF coletado\n",
      "✅ CLX coletado\n",
      "✅ CMA coletado\n",
      "✅ CMCSA coletado\n",
      "✅ CME coletado\n"
     ]
    },
    {
     "name": "stderr",
     "output_type": "stream",
     "text": [
      "$CMG: possibly delisted; no price data found  (1d 1926-09-26 -> 2025-09-01)\n",
      "C:\\Users\\João Paulo Bussi\\AppData\\Local\\Temp\\ipykernel_12892\\3221935595.py:24: FutureWarning: The behavior of DataFrame concatenation with empty or all-NA entries is deprecated. In a future version, this will no longer exclude empty or all-NA columns when determining the result dtypes. To retain the old behavior, exclude the relevant entries before the concat operation.\n",
      "  df_prices = pd.concat([df_prices, hist], ignore_index=True)\n"
     ]
    },
    {
     "name": "stdout",
     "output_type": "stream",
     "text": [
      "✅ CMG coletado\n",
      "✅ CMI coletado\n",
      "✅ CMS coletado\n",
      "✅ CNC coletado\n",
      "✅ CNP coletado\n"
     ]
    },
    {
     "name": "stderr",
     "output_type": "stream",
     "text": [
      "C:\\Users\\João Paulo Bussi\\AppData\\Local\\Temp\\ipykernel_12892\\3221935595.py:42: FutureWarning: The behavior of DataFrame concatenation with empty or all-NA entries is deprecated. In a future version, this will no longer exclude empty or all-NA columns when determining the result dtypes. To retain the old behavior, exclude the relevant entries before the concat operation.\n",
      "  df_info = pd.concat([df_info, pd.DataFrame([info])], ignore_index=True)\n"
     ]
    },
    {
     "name": "stdout",
     "output_type": "stream",
     "text": [
      "✅ CNX coletado\n",
      "✅ COF coletado\n",
      "✅ COIN coletado\n",
      "✅ COO coletado\n"
     ]
    },
    {
     "name": "stderr",
     "output_type": "stream",
     "text": [
      "C:\\Users\\João Paulo Bussi\\AppData\\Local\\Temp\\ipykernel_12892\\3221935595.py:42: FutureWarning: The behavior of DataFrame concatenation with empty or all-NA entries is deprecated. In a future version, this will no longer exclude empty or all-NA columns when determining the result dtypes. To retain the old behavior, exclude the relevant entries before the concat operation.\n",
      "  df_info = pd.concat([df_info, pd.DataFrame([info])], ignore_index=True)\n"
     ]
    },
    {
     "name": "stdout",
     "output_type": "stream",
     "text": [
      "✅ COP coletado\n",
      "✅ COR coletado\n",
      "✅ COST coletado\n",
      "✅ COTY coletado\n",
      "✅ CPAY coletado\n",
      "✅ CPB coletado\n"
     ]
    },
    {
     "name": "stderr",
     "output_type": "stream",
     "text": [
      "C:\\Users\\João Paulo Bussi\\AppData\\Local\\Temp\\ipykernel_12892\\3221935595.py:42: FutureWarning: The behavior of DataFrame concatenation with empty or all-NA entries is deprecated. In a future version, this will no longer exclude empty or all-NA columns when determining the result dtypes. To retain the old behavior, exclude the relevant entries before the concat operation.\n",
      "  df_info = pd.concat([df_info, pd.DataFrame([info])], ignore_index=True)\n"
     ]
    },
    {
     "name": "stdout",
     "output_type": "stream",
     "text": [
      "✅ CPRI coletado\n",
      "✅ CPRT coletado\n"
     ]
    },
    {
     "name": "stderr",
     "output_type": "stream",
     "text": [
      "C:\\Users\\João Paulo Bussi\\AppData\\Local\\Temp\\ipykernel_12892\\3221935595.py:42: FutureWarning: The behavior of DataFrame concatenation with empty or all-NA entries is deprecated. In a future version, this will no longer exclude empty or all-NA columns when determining the result dtypes. To retain the old behavior, exclude the relevant entries before the concat operation.\n",
      "  df_info = pd.concat([df_info, pd.DataFrame([info])], ignore_index=True)\n"
     ]
    },
    {
     "name": "stdout",
     "output_type": "stream",
     "text": [
      "✅ CPT coletado\n"
     ]
    },
    {
     "name": "stderr",
     "output_type": "stream",
     "text": [
      "C:\\Users\\João Paulo Bussi\\AppData\\Local\\Temp\\ipykernel_12892\\3221935595.py:42: FutureWarning: The behavior of DataFrame concatenation with empty or all-NA entries is deprecated. In a future version, this will no longer exclude empty or all-NA columns when determining the result dtypes. To retain the old behavior, exclude the relevant entries before the concat operation.\n",
      "  df_info = pd.concat([df_info, pd.DataFrame([info])], ignore_index=True)\n"
     ]
    },
    {
     "name": "stdout",
     "output_type": "stream",
     "text": [
      "✅ CPWR coletado\n",
      "✅ CRL coletado\n",
      "✅ CRM coletado\n",
      "✅ CRWD coletado\n",
      "✅ CSCO coletado\n",
      "✅ CSGP coletado\n",
      "✅ CSX coletado\n",
      "✅ CTAS coletado\n"
     ]
    },
    {
     "name": "stderr",
     "output_type": "stream",
     "text": [
      "C:\\Users\\João Paulo Bussi\\AppData\\Local\\Temp\\ipykernel_12892\\3221935595.py:42: FutureWarning: The behavior of DataFrame concatenation with empty or all-NA entries is deprecated. In a future version, this will no longer exclude empty or all-NA columns when determining the result dtypes. To retain the old behavior, exclude the relevant entries before the concat operation.\n",
      "  df_info = pd.concat([df_info, pd.DataFrame([info])], ignore_index=True)\n"
     ]
    },
    {
     "name": "stdout",
     "output_type": "stream",
     "text": [
      "✅ CTRA coletado\n",
      "✅ CTSH coletado\n",
      "150/635 tickers processados\n",
      "✅ CTVA coletado\n"
     ]
    },
    {
     "name": "stderr",
     "output_type": "stream",
     "text": [
      "C:\\Users\\João Paulo Bussi\\AppData\\Local\\Temp\\ipykernel_12892\\3221935595.py:42: FutureWarning: The behavior of DataFrame concatenation with empty or all-NA entries is deprecated. In a future version, this will no longer exclude empty or all-NA columns when determining the result dtypes. To retain the old behavior, exclude the relevant entries before the concat operation.\n",
      "  df_info = pd.concat([df_info, pd.DataFrame([info])], ignore_index=True)\n"
     ]
    },
    {
     "name": "stdout",
     "output_type": "stream",
     "text": [
      "✅ CVG coletado\n",
      "✅ CVS coletado\n",
      "✅ CVX coletado\n"
     ]
    },
    {
     "name": "stderr",
     "output_type": "stream",
     "text": [
      "C:\\Users\\João Paulo Bussi\\AppData\\Local\\Temp\\ipykernel_12892\\3221935595.py:42: FutureWarning: The behavior of DataFrame concatenation with empty or all-NA entries is deprecated. In a future version, this will no longer exclude empty or all-NA columns when determining the result dtypes. To retain the old behavior, exclude the relevant entries before the concat operation.\n",
      "  df_info = pd.concat([df_info, pd.DataFrame([info])], ignore_index=True)\n"
     ]
    },
    {
     "name": "stdout",
     "output_type": "stream",
     "text": [
      "✅ CZR coletado\n",
      "✅ D coletado\n"
     ]
    },
    {
     "name": "stderr",
     "output_type": "stream",
     "text": [
      "C:\\Users\\João Paulo Bussi\\AppData\\Local\\Temp\\ipykernel_12892\\3221935595.py:42: FutureWarning: The behavior of DataFrame concatenation with empty or all-NA entries is deprecated. In a future version, this will no longer exclude empty or all-NA columns when determining the result dtypes. To retain the old behavior, exclude the relevant entries before the concat operation.\n",
      "  df_info = pd.concat([df_info, pd.DataFrame([info])], ignore_index=True)\n"
     ]
    },
    {
     "name": "stdout",
     "output_type": "stream",
     "text": [
      "✅ DAL coletado\n",
      "✅ DASH coletado\n"
     ]
    },
    {
     "name": "stderr",
     "output_type": "stream",
     "text": [
      "C:\\Users\\João Paulo Bussi\\AppData\\Local\\Temp\\ipykernel_12892\\3221935595.py:42: FutureWarning: The behavior of DataFrame concatenation with empty or all-NA entries is deprecated. In a future version, this will no longer exclude empty or all-NA columns when determining the result dtypes. To retain the old behavior, exclude the relevant entries before the concat operation.\n",
      "  df_info = pd.concat([df_info, pd.DataFrame([info])], ignore_index=True)\n"
     ]
    },
    {
     "name": "stdout",
     "output_type": "stream",
     "text": [
      "✅ DAY coletado\n",
      "✅ DD coletado\n",
      "✅ DDOG coletado\n",
      "✅ DE coletado\n",
      "✅ DECK coletado\n",
      "✅ DELL coletado\n",
      "✅ DG coletado\n",
      "✅ DGX coletado\n",
      "✅ DHI coletado\n",
      "✅ DHR coletado\n",
      "✅ DIS coletado\n",
      "✅ DLR coletado\n"
     ]
    },
    {
     "name": "stderr",
     "output_type": "stream",
     "text": [
      "C:\\Users\\João Paulo Bussi\\AppData\\Local\\Temp\\ipykernel_12892\\3221935595.py:42: FutureWarning: The behavior of DataFrame concatenation with empty or all-NA entries is deprecated. In a future version, this will no longer exclude empty or all-NA columns when determining the result dtypes. To retain the old behavior, exclude the relevant entries before the concat operation.\n",
      "  df_info = pd.concat([df_info, pd.DataFrame([info])], ignore_index=True)\n"
     ]
    },
    {
     "name": "stdout",
     "output_type": "stream",
     "text": [
      "✅ DLTR coletado\n"
     ]
    },
    {
     "name": "stderr",
     "output_type": "stream",
     "text": [
      "C:\\Users\\João Paulo Bussi\\AppData\\Local\\Temp\\ipykernel_12892\\3221935595.py:42: FutureWarning: The behavior of DataFrame concatenation with empty or all-NA entries is deprecated. In a future version, this will no longer exclude empty or all-NA columns when determining the result dtypes. To retain the old behavior, exclude the relevant entries before the concat operation.\n",
      "  df_info = pd.concat([df_info, pd.DataFrame([info])], ignore_index=True)\n"
     ]
    },
    {
     "name": "stdout",
     "output_type": "stream",
     "text": [
      "✅ DOC coletado\n",
      "✅ DOV coletado\n"
     ]
    },
    {
     "name": "stderr",
     "output_type": "stream",
     "text": [
      "C:\\Users\\João Paulo Bussi\\AppData\\Local\\Temp\\ipykernel_12892\\3221935595.py:42: FutureWarning: The behavior of DataFrame concatenation with empty or all-NA entries is deprecated. In a future version, this will no longer exclude empty or all-NA columns when determining the result dtypes. To retain the old behavior, exclude the relevant entries before the concat operation.\n",
      "  df_info = pd.concat([df_info, pd.DataFrame([info])], ignore_index=True)\n"
     ]
    },
    {
     "name": "stdout",
     "output_type": "stream",
     "text": [
      "✅ DOW coletado\n",
      "✅ DPZ coletado\n",
      "✅ DRI coletado\n",
      "✅ DTE coletado\n",
      "✅ DUK coletado\n"
     ]
    },
    {
     "name": "stderr",
     "output_type": "stream",
     "text": [
      "C:\\Users\\João Paulo Bussi\\AppData\\Local\\Temp\\ipykernel_12892\\3221935595.py:42: FutureWarning: The behavior of DataFrame concatenation with empty or all-NA entries is deprecated. In a future version, this will no longer exclude empty or all-NA columns when determining the result dtypes. To retain the old behavior, exclude the relevant entries before the concat operation.\n",
      "  df_info = pd.concat([df_info, pd.DataFrame([info])], ignore_index=True)\n"
     ]
    },
    {
     "name": "stdout",
     "output_type": "stream",
     "text": [
      "✅ DV coletado\n",
      "✅ DVA coletado\n"
     ]
    },
    {
     "name": "stderr",
     "output_type": "stream",
     "text": [
      "C:\\Users\\João Paulo Bussi\\AppData\\Local\\Temp\\ipykernel_12892\\3221935595.py:42: FutureWarning: The behavior of DataFrame concatenation with empty or all-NA entries is deprecated. In a future version, this will no longer exclude empty or all-NA columns when determining the result dtypes. To retain the old behavior, exclude the relevant entries before the concat operation.\n",
      "  df_info = pd.concat([df_info, pd.DataFrame([info])], ignore_index=True)\n"
     ]
    },
    {
     "name": "stdout",
     "output_type": "stream",
     "text": [
      "✅ DVN coletado\n"
     ]
    },
    {
     "name": "stderr",
     "output_type": "stream",
     "text": [
      "C:\\Users\\João Paulo Bussi\\AppData\\Local\\Temp\\ipykernel_12892\\3221935595.py:42: FutureWarning: The behavior of DataFrame concatenation with empty or all-NA entries is deprecated. In a future version, this will no longer exclude empty or all-NA columns when determining the result dtypes. To retain the old behavior, exclude the relevant entries before the concat operation.\n",
      "  df_info = pd.concat([df_info, pd.DataFrame([info])], ignore_index=True)\n"
     ]
    },
    {
     "name": "stdout",
     "output_type": "stream",
     "text": [
      "✅ DXC coletado\n",
      "✅ DXCM coletado\n"
     ]
    },
    {
     "name": "stderr",
     "output_type": "stream",
     "text": [
      "C:\\Users\\João Paulo Bussi\\AppData\\Local\\Temp\\ipykernel_12892\\3221935595.py:42: FutureWarning: The behavior of DataFrame concatenation with empty or all-NA entries is deprecated. In a future version, this will no longer exclude empty or all-NA columns when determining the result dtypes. To retain the old behavior, exclude the relevant entries before the concat operation.\n",
      "  df_info = pd.concat([df_info, pd.DataFrame([info])], ignore_index=True)\n"
     ]
    },
    {
     "name": "stdout",
     "output_type": "stream",
     "text": [
      "✅ DYN coletado\n",
      "✅ EA coletado\n",
      "✅ EBAY coletado\n",
      "✅ ECL coletado\n",
      "✅ ED coletado\n",
      "✅ EFX coletado\n"
     ]
    },
    {
     "name": "stderr",
     "output_type": "stream",
     "text": [
      "C:\\Users\\João Paulo Bussi\\AppData\\Local\\Temp\\ipykernel_12892\\3221935595.py:42: FutureWarning: The behavior of DataFrame concatenation with empty or all-NA entries is deprecated. In a future version, this will no longer exclude empty or all-NA columns when determining the result dtypes. To retain the old behavior, exclude the relevant entries before the concat operation.\n",
      "  df_info = pd.concat([df_info, pd.DataFrame([info])], ignore_index=True)\n"
     ]
    },
    {
     "name": "stdout",
     "output_type": "stream",
     "text": [
      "✅ EG coletado\n",
      "✅ EIX coletado\n",
      "✅ EL coletado\n",
      "✅ ELV coletado\n"
     ]
    },
    {
     "name": "stderr",
     "output_type": "stream",
     "text": [
      "C:\\Users\\João Paulo Bussi\\AppData\\Local\\Temp\\ipykernel_12892\\3221935595.py:42: FutureWarning: The behavior of DataFrame concatenation with empty or all-NA entries is deprecated. In a future version, this will no longer exclude empty or all-NA columns when determining the result dtypes. To retain the old behavior, exclude the relevant entries before the concat operation.\n",
      "  df_info = pd.concat([df_info, pd.DataFrame([info])], ignore_index=True)\n"
     ]
    },
    {
     "name": "stdout",
     "output_type": "stream",
     "text": [
      "✅ EMC coletado\n",
      "✅ EMN coletado\n",
      "✅ EMR coletado\n",
      "✅ ENPH coletado\n"
     ]
    },
    {
     "name": "stderr",
     "output_type": "stream",
     "text": [
      "C:\\Users\\João Paulo Bussi\\AppData\\Local\\Temp\\ipykernel_12892\\3221935595.py:42: FutureWarning: The behavior of DataFrame concatenation with empty or all-NA entries is deprecated. In a future version, this will no longer exclude empty or all-NA columns when determining the result dtypes. To retain the old behavior, exclude the relevant entries before the concat operation.\n",
      "  df_info = pd.concat([df_info, pd.DataFrame([info])], ignore_index=True)\n"
     ]
    },
    {
     "name": "stdout",
     "output_type": "stream",
     "text": [
      "✅ EOG coletado\n"
     ]
    },
    {
     "name": "stderr",
     "output_type": "stream",
     "text": [
      "C:\\Users\\João Paulo Bussi\\AppData\\Local\\Temp\\ipykernel_12892\\3221935595.py:42: FutureWarning: The behavior of DataFrame concatenation with empty or all-NA entries is deprecated. In a future version, this will no longer exclude empty or all-NA columns when determining the result dtypes. To retain the old behavior, exclude the relevant entries before the concat operation.\n",
      "  df_info = pd.concat([df_info, pd.DataFrame([info])], ignore_index=True)\n"
     ]
    },
    {
     "name": "stdout",
     "output_type": "stream",
     "text": [
      "✅ EP coletado\n",
      "✅ EPAM coletado\n",
      "200/635 tickers processados\n",
      "✅ EQIX coletado\n"
     ]
    },
    {
     "name": "stderr",
     "output_type": "stream",
     "text": [
      "C:\\Users\\João Paulo Bussi\\AppData\\Local\\Temp\\ipykernel_12892\\3221935595.py:42: FutureWarning: The behavior of DataFrame concatenation with empty or all-NA entries is deprecated. In a future version, this will no longer exclude empty or all-NA columns when determining the result dtypes. To retain the old behavior, exclude the relevant entries before the concat operation.\n",
      "  df_info = pd.concat([df_info, pd.DataFrame([info])], ignore_index=True)\n"
     ]
    },
    {
     "name": "stdout",
     "output_type": "stream",
     "text": [
      "✅ EQR coletado\n",
      "✅ EQT coletado\n"
     ]
    },
    {
     "name": "stderr",
     "output_type": "stream",
     "text": [
      "C:\\Users\\João Paulo Bussi\\AppData\\Local\\Temp\\ipykernel_12892\\3221935595.py:42: FutureWarning: The behavior of DataFrame concatenation with empty or all-NA entries is deprecated. In a future version, this will no longer exclude empty or all-NA columns when determining the result dtypes. To retain the old behavior, exclude the relevant entries before the concat operation.\n",
      "  df_info = pd.concat([df_info, pd.DataFrame([info])], ignore_index=True)\n"
     ]
    },
    {
     "name": "stdout",
     "output_type": "stream",
     "text": [
      "✅ ERIE coletado\n",
      "✅ ES coletado\n"
     ]
    },
    {
     "name": "stderr",
     "output_type": "stream",
     "text": [
      "C:\\Users\\João Paulo Bussi\\AppData\\Local\\Temp\\ipykernel_12892\\3221935595.py:42: FutureWarning: The behavior of DataFrame concatenation with empty or all-NA entries is deprecated. In a future version, this will no longer exclude empty or all-NA columns when determining the result dtypes. To retain the old behavior, exclude the relevant entries before the concat operation.\n",
      "  df_info = pd.concat([df_info, pd.DataFrame([info])], ignore_index=True)\n"
     ]
    },
    {
     "name": "stdout",
     "output_type": "stream",
     "text": [
      "✅ ESS coletado\n",
      "✅ ETN coletado\n",
      "✅ ETR coletado\n",
      "✅ ETSY coletado\n",
      "✅ EVRG coletado\n",
      "✅ EW coletado\n",
      "✅ EXC coletado\n",
      "✅ EXE coletado\n",
      "✅ EXPD coletado\n",
      "✅ EXPE coletado\n",
      "✅ EXR coletado\n",
      "✅ F coletado\n"
     ]
    },
    {
     "name": "stderr",
     "output_type": "stream",
     "text": [
      "C:\\Users\\João Paulo Bussi\\AppData\\Local\\Temp\\ipykernel_12892\\3221935595.py:42: FutureWarning: The behavior of DataFrame concatenation with empty or all-NA entries is deprecated. In a future version, this will no longer exclude empty or all-NA columns when determining the result dtypes. To retain the old behavior, exclude the relevant entries before the concat operation.\n",
      "  df_info = pd.concat([df_info, pd.DataFrame([info])], ignore_index=True)\n"
     ]
    },
    {
     "name": "stdout",
     "output_type": "stream",
     "text": [
      "✅ FANG coletado\n",
      "✅ FAST coletado\n"
     ]
    },
    {
     "name": "stderr",
     "output_type": "stream",
     "text": [
      "C:\\Users\\João Paulo Bussi\\AppData\\Local\\Temp\\ipykernel_12892\\3221935595.py:42: FutureWarning: The behavior of DataFrame concatenation with empty or all-NA entries is deprecated. In a future version, this will no longer exclude empty or all-NA columns when determining the result dtypes. To retain the old behavior, exclude the relevant entries before the concat operation.\n",
      "  df_info = pd.concat([df_info, pd.DataFrame([info])], ignore_index=True)\n"
     ]
    },
    {
     "name": "stdout",
     "output_type": "stream",
     "text": [
      "✅ FB coletado\n",
      "✅ FCX coletado\n",
      "✅ FDS coletado\n",
      "✅ FDX coletado\n",
      "✅ FE coletado\n"
     ]
    },
    {
     "name": "stderr",
     "output_type": "stream",
     "text": [
      "$FFIV: possibly delisted; no price data found  (1d 1926-09-26 -> 2025-09-01)\n"
     ]
    },
    {
     "name": "stdout",
     "output_type": "stream",
     "text": [
      "✅ FFIV coletado\n"
     ]
    },
    {
     "name": "stderr",
     "output_type": "stream",
     "text": [
      "C:\\Users\\João Paulo Bussi\\AppData\\Local\\Temp\\ipykernel_12892\\3221935595.py:42: FutureWarning: The behavior of DataFrame concatenation with empty or all-NA entries is deprecated. In a future version, this will no longer exclude empty or all-NA columns when determining the result dtypes. To retain the old behavior, exclude the relevant entries before the concat operation.\n",
      "  df_info = pd.concat([df_info, pd.DataFrame([info])], ignore_index=True)\n"
     ]
    },
    {
     "name": "stdout",
     "output_type": "stream",
     "text": [
      "✅ FHN coletado\n",
      "✅ FI coletado\n",
      "✅ FICO coletado\n",
      "✅ FIS coletado\n",
      "✅ FITB coletado\n"
     ]
    },
    {
     "name": "stderr",
     "output_type": "stream",
     "text": [
      "C:\\Users\\João Paulo Bussi\\AppData\\Local\\Temp\\ipykernel_12892\\3221935595.py:42: FutureWarning: The behavior of DataFrame concatenation with empty or all-NA entries is deprecated. In a future version, this will no longer exclude empty or all-NA columns when determining the result dtypes. To retain the old behavior, exclude the relevant entries before the concat operation.\n",
      "  df_info = pd.concat([df_info, pd.DataFrame([info])], ignore_index=True)\n"
     ]
    },
    {
     "name": "stdout",
     "output_type": "stream",
     "text": [
      "✅ FL coletado\n"
     ]
    },
    {
     "name": "stderr",
     "output_type": "stream",
     "text": [
      "C:\\Users\\João Paulo Bussi\\AppData\\Local\\Temp\\ipykernel_12892\\3221935595.py:42: FutureWarning: The behavior of DataFrame concatenation with empty or all-NA entries is deprecated. In a future version, this will no longer exclude empty or all-NA columns when determining the result dtypes. To retain the old behavior, exclude the relevant entries before the concat operation.\n",
      "  df_info = pd.concat([df_info, pd.DataFrame([info])], ignore_index=True)\n"
     ]
    },
    {
     "name": "stdout",
     "output_type": "stream",
     "text": [
      "✅ FLR coletado\n",
      "✅ FLS coletado\n",
      "✅ FMC coletado\n"
     ]
    },
    {
     "name": "stderr",
     "output_type": "stream",
     "text": [
      "C:\\Users\\João Paulo Bussi\\AppData\\Local\\Temp\\ipykernel_12892\\3221935595.py:42: FutureWarning: The behavior of DataFrame concatenation with empty or all-NA entries is deprecated. In a future version, this will no longer exclude empty or all-NA columns when determining the result dtypes. To retain the old behavior, exclude the relevant entries before the concat operation.\n",
      "  df_info = pd.concat([df_info, pd.DataFrame([info])], ignore_index=True)\n"
     ]
    },
    {
     "name": "stdout",
     "output_type": "stream",
     "text": [
      "✅ FOSL coletado\n"
     ]
    },
    {
     "name": "stderr",
     "output_type": "stream",
     "text": [
      "C:\\Users\\João Paulo Bussi\\AppData\\Local\\Temp\\ipykernel_12892\\3221935595.py:42: FutureWarning: The behavior of DataFrame concatenation with empty or all-NA entries is deprecated. In a future version, this will no longer exclude empty or all-NA columns when determining the result dtypes. To retain the old behavior, exclude the relevant entries before the concat operation.\n",
      "  df_info = pd.concat([df_info, pd.DataFrame([info])], ignore_index=True)\n"
     ]
    },
    {
     "name": "stdout",
     "output_type": "stream",
     "text": [
      "✅ FOX coletado\n"
     ]
    },
    {
     "name": "stderr",
     "output_type": "stream",
     "text": [
      "C:\\Users\\João Paulo Bussi\\AppData\\Local\\Temp\\ipykernel_12892\\3221935595.py:42: FutureWarning: The behavior of DataFrame concatenation with empty or all-NA entries is deprecated. In a future version, this will no longer exclude empty or all-NA columns when determining the result dtypes. To retain the old behavior, exclude the relevant entries before the concat operation.\n",
      "  df_info = pd.concat([df_info, pd.DataFrame([info])], ignore_index=True)\n"
     ]
    },
    {
     "name": "stdout",
     "output_type": "stream",
     "text": [
      "✅ FOXA coletado\n",
      "✅ FRT coletado\n",
      "✅ FSLR coletado\n",
      "✅ FTI coletado\n",
      "✅ FTNT coletado\n",
      "✅ FTV coletado\n",
      "✅ GD coletado\n",
      "✅ GDDY coletado\n",
      "✅ GE coletado\n",
      "✅ GEHC coletado\n",
      "✅ GEN coletado\n",
      "✅ GEV coletado\n"
     ]
    },
    {
     "name": "stderr",
     "output_type": "stream",
     "text": [
      "C:\\Users\\João Paulo Bussi\\AppData\\Local\\Temp\\ipykernel_12892\\3221935595.py:42: FutureWarning: The behavior of DataFrame concatenation with empty or all-NA entries is deprecated. In a future version, this will no longer exclude empty or all-NA columns when determining the result dtypes. To retain the old behavior, exclude the relevant entries before the concat operation.\n",
      "  df_info = pd.concat([df_info, pd.DataFrame([info])], ignore_index=True)\n"
     ]
    },
    {
     "name": "stdout",
     "output_type": "stream",
     "text": [
      "✅ GHC coletado\n",
      "✅ GILD coletado\n",
      "250/635 tickers processados\n",
      "✅ GIS coletado\n"
     ]
    },
    {
     "name": "stderr",
     "output_type": "stream",
     "text": [
      "C:\\Users\\João Paulo Bussi\\AppData\\Local\\Temp\\ipykernel_12892\\3221935595.py:42: FutureWarning: The behavior of DataFrame concatenation with empty or all-NA entries is deprecated. In a future version, this will no longer exclude empty or all-NA columns when determining the result dtypes. To retain the old behavior, exclude the relevant entries before the concat operation.\n",
      "  df_info = pd.concat([df_info, pd.DataFrame([info])], ignore_index=True)\n"
     ]
    },
    {
     "name": "stdout",
     "output_type": "stream",
     "text": [
      "✅ GL coletado\n",
      "✅ GLW coletado\n",
      "✅ GM coletado\n"
     ]
    },
    {
     "name": "stderr",
     "output_type": "stream",
     "text": [
      "C:\\Users\\João Paulo Bussi\\AppData\\Local\\Temp\\ipykernel_12892\\3221935595.py:42: FutureWarning: The behavior of DataFrame concatenation with empty or all-NA entries is deprecated. In a future version, this will no longer exclude empty or all-NA columns when determining the result dtypes. To retain the old behavior, exclude the relevant entries before the concat operation.\n",
      "  df_info = pd.concat([df_info, pd.DataFrame([info])], ignore_index=True)\n"
     ]
    },
    {
     "name": "stdout",
     "output_type": "stream",
     "text": [
      "✅ GME coletado\n",
      "✅ GNRC coletado\n"
     ]
    },
    {
     "name": "stderr",
     "output_type": "stream",
     "text": [
      "C:\\Users\\João Paulo Bussi\\AppData\\Local\\Temp\\ipykernel_12892\\3221935595.py:42: FutureWarning: The behavior of DataFrame concatenation with empty or all-NA entries is deprecated. In a future version, this will no longer exclude empty or all-NA columns when determining the result dtypes. To retain the old behavior, exclude the relevant entries before the concat operation.\n",
      "  df_info = pd.concat([df_info, pd.DataFrame([info])], ignore_index=True)\n"
     ]
    },
    {
     "name": "stdout",
     "output_type": "stream",
     "text": [
      "✅ GNW coletado\n",
      "✅ GOOG coletado\n",
      "✅ GOOGL coletado\n",
      "✅ GPC coletado\n",
      "✅ GPN coletado\n",
      "✅ GRMN coletado\n"
     ]
    },
    {
     "name": "stderr",
     "output_type": "stream",
     "text": [
      "C:\\Users\\João Paulo Bussi\\AppData\\Local\\Temp\\ipykernel_12892\\3221935595.py:42: FutureWarning: The behavior of DataFrame concatenation with empty or all-NA entries is deprecated. In a future version, this will no longer exclude empty or all-NA columns when determining the result dtypes. To retain the old behavior, exclude the relevant entries before the concat operation.\n",
      "  df_info = pd.concat([df_info, pd.DataFrame([info])], ignore_index=True)\n"
     ]
    },
    {
     "name": "stdout",
     "output_type": "stream",
     "text": [
      "✅ GRN coletado\n",
      "✅ GS coletado\n"
     ]
    },
    {
     "name": "stderr",
     "output_type": "stream",
     "text": [
      "C:\\Users\\João Paulo Bussi\\AppData\\Local\\Temp\\ipykernel_12892\\3221935595.py:42: FutureWarning: The behavior of DataFrame concatenation with empty or all-NA entries is deprecated. In a future version, this will no longer exclude empty or all-NA columns when determining the result dtypes. To retain the old behavior, exclude the relevant entries before the concat operation.\n",
      "  df_info = pd.concat([df_info, pd.DataFrame([info])], ignore_index=True)\n"
     ]
    },
    {
     "name": "stdout",
     "output_type": "stream",
     "text": [
      "✅ GT coletado\n",
      "✅ GWW coletado\n",
      "✅ HAL coletado\n",
      "✅ HAS coletado\n",
      "✅ HBAN coletado\n"
     ]
    },
    {
     "name": "stderr",
     "output_type": "stream",
     "text": [
      "C:\\Users\\João Paulo Bussi\\AppData\\Local\\Temp\\ipykernel_12892\\3221935595.py:42: FutureWarning: The behavior of DataFrame concatenation with empty or all-NA entries is deprecated. In a future version, this will no longer exclude empty or all-NA columns when determining the result dtypes. To retain the old behavior, exclude the relevant entries before the concat operation.\n",
      "  df_info = pd.concat([df_info, pd.DataFrame([info])], ignore_index=True)\n"
     ]
    },
    {
     "name": "stdout",
     "output_type": "stream",
     "text": [
      "✅ HBI coletado\n",
      "✅ HCA coletado\n",
      "✅ HD coletado\n"
     ]
    },
    {
     "name": "stderr",
     "output_type": "stream",
     "text": [
      "C:\\Users\\João Paulo Bussi\\AppData\\Local\\Temp\\ipykernel_12892\\3221935595.py:42: FutureWarning: The behavior of DataFrame concatenation with empty or all-NA entries is deprecated. In a future version, this will no longer exclude empty or all-NA columns when determining the result dtypes. To retain the old behavior, exclude the relevant entries before the concat operation.\n",
      "  df_info = pd.concat([df_info, pd.DataFrame([info])], ignore_index=True)\n"
     ]
    },
    {
     "name": "stdout",
     "output_type": "stream",
     "text": [
      "✅ HIG coletado\n",
      "✅ HII coletado\n",
      "✅ HLT coletado\n",
      "✅ HOG coletado\n",
      "✅ HOLX coletado\n",
      "✅ HON coletado\n"
     ]
    },
    {
     "name": "stderr",
     "output_type": "stream",
     "text": [
      "C:\\Users\\João Paulo Bussi\\AppData\\Local\\Temp\\ipykernel_12892\\3221935595.py:42: FutureWarning: The behavior of DataFrame concatenation with empty or all-NA entries is deprecated. In a future version, this will no longer exclude empty or all-NA columns when determining the result dtypes. To retain the old behavior, exclude the relevant entries before the concat operation.\n",
      "  df_info = pd.concat([df_info, pd.DataFrame([info])], ignore_index=True)\n"
     ]
    },
    {
     "name": "stdout",
     "output_type": "stream",
     "text": [
      "✅ HP coletado\n",
      "✅ HPE coletado\n",
      "✅ HPQ coletado\n",
      "✅ HRB coletado\n",
      "✅ HRL coletado\n",
      "✅ HSIC coletado\n",
      "✅ HST coletado\n",
      "✅ HSY coletado\n",
      "✅ HUBB coletado\n",
      "✅ HUM coletado\n"
     ]
    },
    {
     "name": "stderr",
     "output_type": "stream",
     "text": [
      "C:\\Users\\João Paulo Bussi\\AppData\\Local\\Temp\\ipykernel_12892\\3221935595.py:42: FutureWarning: The behavior of DataFrame concatenation with empty or all-NA entries is deprecated. In a future version, this will no longer exclude empty or all-NA columns when determining the result dtypes. To retain the old behavior, exclude the relevant entries before the concat operation.\n",
      "  df_info = pd.concat([df_info, pd.DataFrame([info])], ignore_index=True)\n"
     ]
    },
    {
     "name": "stdout",
     "output_type": "stream",
     "text": [
      "✅ HWM coletado\n"
     ]
    },
    {
     "name": "stderr",
     "output_type": "stream",
     "text": [
      "C:\\Users\\João Paulo Bussi\\AppData\\Local\\Temp\\ipykernel_12892\\3221935595.py:42: FutureWarning: The behavior of DataFrame concatenation with empty or all-NA entries is deprecated. In a future version, this will no longer exclude empty or all-NA columns when determining the result dtypes. To retain the old behavior, exclude the relevant entries before the concat operation.\n",
      "  df_info = pd.concat([df_info, pd.DataFrame([info])], ignore_index=True)\n"
     ]
    },
    {
     "name": "stdout",
     "output_type": "stream",
     "text": [
      "✅ IBKR coletado\n",
      "✅ IBM coletado\n",
      "✅ ICE coletado\n",
      "✅ IDXX coletado\n",
      "✅ IEX coletado\n",
      "✅ IFF coletado\n"
     ]
    },
    {
     "name": "stderr",
     "output_type": "stream",
     "text": [
      "C:\\Users\\João Paulo Bussi\\AppData\\Local\\Temp\\ipykernel_12892\\3221935595.py:42: FutureWarning: The behavior of DataFrame concatenation with empty or all-NA entries is deprecated. In a future version, this will no longer exclude empty or all-NA columns when determining the result dtypes. To retain the old behavior, exclude the relevant entries before the concat operation.\n",
      "  df_info = pd.concat([df_info, pd.DataFrame([info])], ignore_index=True)\n"
     ]
    },
    {
     "name": "stdout",
     "output_type": "stream",
     "text": [
      "✅ IGT coletado\n"
     ]
    },
    {
     "name": "stderr",
     "output_type": "stream",
     "text": [
      "C:\\Users\\João Paulo Bussi\\AppData\\Local\\Temp\\ipykernel_12892\\3221935595.py:42: FutureWarning: The behavior of DataFrame concatenation with empty or all-NA entries is deprecated. In a future version, this will no longer exclude empty or all-NA columns when determining the result dtypes. To retain the old behavior, exclude the relevant entries before the concat operation.\n",
      "  df_info = pd.concat([df_info, pd.DataFrame([info])], ignore_index=True)\n"
     ]
    },
    {
     "name": "stdout",
     "output_type": "stream",
     "text": [
      "✅ ILMN coletado\n",
      "✅ INCY coletado\n"
     ]
    },
    {
     "name": "stderr",
     "output_type": "stream",
     "text": [
      "C:\\Users\\João Paulo Bussi\\AppData\\Local\\Temp\\ipykernel_12892\\3221935595.py:42: FutureWarning: The behavior of DataFrame concatenation with empty or all-NA entries is deprecated. In a future version, this will no longer exclude empty or all-NA columns when determining the result dtypes. To retain the old behavior, exclude the relevant entries before the concat operation.\n",
      "  df_info = pd.concat([df_info, pd.DataFrame([info])], ignore_index=True)\n"
     ]
    },
    {
     "name": "stdout",
     "output_type": "stream",
     "text": [
      "✅ INFO coletado\n"
     ]
    },
    {
     "name": "stderr",
     "output_type": "stream",
     "text": [
      "C:\\Users\\João Paulo Bussi\\AppData\\Local\\Temp\\ipykernel_12892\\3221935595.py:42: FutureWarning: The behavior of DataFrame concatenation with empty or all-NA entries is deprecated. In a future version, this will no longer exclude empty or all-NA columns when determining the result dtypes. To retain the old behavior, exclude the relevant entries before the concat operation.\n",
      "  df_info = pd.concat([df_info, pd.DataFrame([info])], ignore_index=True)\n"
     ]
    },
    {
     "name": "stdout",
     "output_type": "stream",
     "text": [
      "✅ INTC coletado\n",
      "300/635 tickers processados\n",
      "✅ INTU coletado\n",
      "✅ INVH coletado\n",
      "✅ IP coletado\n",
      "✅ IPG coletado\n"
     ]
    },
    {
     "name": "stderr",
     "output_type": "stream",
     "text": [
      "C:\\Users\\João Paulo Bussi\\AppData\\Local\\Temp\\ipykernel_12892\\3221935595.py:42: FutureWarning: The behavior of DataFrame concatenation with empty or all-NA entries is deprecated. In a future version, this will no longer exclude empty or all-NA columns when determining the result dtypes. To retain the old behavior, exclude the relevant entries before the concat operation.\n",
      "  df_info = pd.concat([df_info, pd.DataFrame([info])], ignore_index=True)\n"
     ]
    },
    {
     "name": "stdout",
     "output_type": "stream",
     "text": [
      "✅ IPGP coletado\n",
      "✅ IQV coletado\n",
      "✅ IR coletado\n"
     ]
    },
    {
     "name": "stderr",
     "output_type": "stream",
     "text": [
      "C:\\Users\\João Paulo Bussi\\AppData\\Local\\Temp\\ipykernel_12892\\3221935595.py:42: FutureWarning: The behavior of DataFrame concatenation with empty or all-NA entries is deprecated. In a future version, this will no longer exclude empty or all-NA columns when determining the result dtypes. To retain the old behavior, exclude the relevant entries before the concat operation.\n",
      "  df_info = pd.concat([df_info, pd.DataFrame([info])], ignore_index=True)\n"
     ]
    },
    {
     "name": "stdout",
     "output_type": "stream",
     "text": [
      "✅ IRM coletado\n",
      "✅ ISRG coletado\n"
     ]
    },
    {
     "name": "stderr",
     "output_type": "stream",
     "text": [
      "C:\\Users\\João Paulo Bussi\\AppData\\Local\\Temp\\ipykernel_12892\\3221935595.py:42: FutureWarning: The behavior of DataFrame concatenation with empty or all-NA entries is deprecated. In a future version, this will no longer exclude empty or all-NA columns when determining the result dtypes. To retain the old behavior, exclude the relevant entries before the concat operation.\n",
      "  df_info = pd.concat([df_info, pd.DataFrame([info])], ignore_index=True)\n"
     ]
    },
    {
     "name": "stdout",
     "output_type": "stream",
     "text": [
      "✅ IT coletado\n",
      "✅ ITT coletado\n",
      "✅ ITW coletado\n",
      "✅ IVZ coletado\n",
      "✅ J coletado\n",
      "✅ JBHT coletado\n"
     ]
    },
    {
     "name": "stderr",
     "output_type": "stream",
     "text": [
      "C:\\Users\\João Paulo Bussi\\AppData\\Local\\Temp\\ipykernel_12892\\3221935595.py:42: FutureWarning: The behavior of DataFrame concatenation with empty or all-NA entries is deprecated. In a future version, this will no longer exclude empty or all-NA columns when determining the result dtypes. To retain the old behavior, exclude the relevant entries before the concat operation.\n",
      "  df_info = pd.concat([df_info, pd.DataFrame([info])], ignore_index=True)\n"
     ]
    },
    {
     "name": "stdout",
     "output_type": "stream",
     "text": [
      "✅ JBL coletado\n",
      "✅ JCI coletado\n",
      "✅ JEF coletado\n",
      "✅ JKHY coletado\n",
      "✅ JNJ coletado\n",
      "✅ JPM coletado\n",
      "✅ K coletado\n"
     ]
    },
    {
     "name": "stderr",
     "output_type": "stream",
     "text": [
      "C:\\Users\\João Paulo Bussi\\AppData\\Local\\Temp\\ipykernel_12892\\3221935595.py:42: FutureWarning: The behavior of DataFrame concatenation with empty or all-NA entries is deprecated. In a future version, this will no longer exclude empty or all-NA columns when determining the result dtypes. To retain the old behavior, exclude the relevant entries before the concat operation.\n",
      "  df_info = pd.concat([df_info, pd.DataFrame([info])], ignore_index=True)\n"
     ]
    },
    {
     "name": "stdout",
     "output_type": "stream",
     "text": [
      "✅ KBH coletado\n",
      "✅ KDP coletado\n"
     ]
    },
    {
     "name": "stderr",
     "output_type": "stream",
     "text": [
      "C:\\Users\\João Paulo Bussi\\AppData\\Local\\Temp\\ipykernel_12892\\3221935595.py:42: FutureWarning: The behavior of DataFrame concatenation with empty or all-NA entries is deprecated. In a future version, this will no longer exclude empty or all-NA columns when determining the result dtypes. To retain the old behavior, exclude the relevant entries before the concat operation.\n",
      "  df_info = pd.concat([df_info, pd.DataFrame([info])], ignore_index=True)\n"
     ]
    },
    {
     "name": "stdout",
     "output_type": "stream",
     "text": [
      "✅ KEY coletado\n",
      "✅ KEYS coletado\n"
     ]
    },
    {
     "name": "stderr",
     "output_type": "stream",
     "text": [
      "C:\\Users\\João Paulo Bussi\\AppData\\Local\\Temp\\ipykernel_12892\\3221935595.py:42: FutureWarning: The behavior of DataFrame concatenation with empty or all-NA entries is deprecated. In a future version, this will no longer exclude empty or all-NA columns when determining the result dtypes. To retain the old behavior, exclude the relevant entries before the concat operation.\n",
      "  df_info = pd.concat([df_info, pd.DataFrame([info])], ignore_index=True)\n"
     ]
    },
    {
     "name": "stdout",
     "output_type": "stream",
     "text": [
      "✅ KG coletado\n",
      "✅ KHC coletado\n"
     ]
    },
    {
     "name": "stderr",
     "output_type": "stream",
     "text": [
      "C:\\Users\\João Paulo Bussi\\AppData\\Local\\Temp\\ipykernel_12892\\3221935595.py:42: FutureWarning: The behavior of DataFrame concatenation with empty or all-NA entries is deprecated. In a future version, this will no longer exclude empty or all-NA columns when determining the result dtypes. To retain the old behavior, exclude the relevant entries before the concat operation.\n",
      "  df_info = pd.concat([df_info, pd.DataFrame([info])], ignore_index=True)\n"
     ]
    },
    {
     "name": "stdout",
     "output_type": "stream",
     "text": [
      "✅ KIM coletado\n",
      "✅ KKR coletado\n",
      "✅ KLAC coletado\n",
      "✅ KMB coletado\n",
      "✅ KMI coletado\n",
      "✅ KMX coletado\n",
      "✅ KO coletado\n",
      "✅ KR coletado\n",
      "✅ KSS coletado\n",
      "✅ KVUE coletado\n"
     ]
    },
    {
     "name": "stderr",
     "output_type": "stream",
     "text": [
      "C:\\Users\\João Paulo Bussi\\AppData\\Local\\Temp\\ipykernel_12892\\3221935595.py:42: FutureWarning: The behavior of DataFrame concatenation with empty or all-NA entries is deprecated. In a future version, this will no longer exclude empty or all-NA columns when determining the result dtypes. To retain the old behavior, exclude the relevant entries before the concat operation.\n",
      "  df_info = pd.concat([df_info, pd.DataFrame([info])], ignore_index=True)\n"
     ]
    },
    {
     "name": "stdout",
     "output_type": "stream",
     "text": [
      "✅ L coletado\n"
     ]
    },
    {
     "name": "stderr",
     "output_type": "stream",
     "text": [
      "C:\\Users\\João Paulo Bussi\\AppData\\Local\\Temp\\ipykernel_12892\\3221935595.py:42: FutureWarning: The behavior of DataFrame concatenation with empty or all-NA entries is deprecated. In a future version, this will no longer exclude empty or all-NA columns when determining the result dtypes. To retain the old behavior, exclude the relevant entries before the concat operation.\n",
      "  df_info = pd.concat([df_info, pd.DataFrame([info])], ignore_index=True)\n"
     ]
    },
    {
     "name": "stdout",
     "output_type": "stream",
     "text": [
      "✅ LDOS coletado\n"
     ]
    },
    {
     "name": "stderr",
     "output_type": "stream",
     "text": [
      "C:\\Users\\João Paulo Bussi\\AppData\\Local\\Temp\\ipykernel_12892\\3221935595.py:42: FutureWarning: The behavior of DataFrame concatenation with empty or all-NA entries is deprecated. In a future version, this will no longer exclude empty or all-NA columns when determining the result dtypes. To retain the old behavior, exclude the relevant entries before the concat operation.\n",
      "  df_info = pd.concat([df_info, pd.DataFrame([info])], ignore_index=True)\n"
     ]
    },
    {
     "name": "stdout",
     "output_type": "stream",
     "text": [
      "✅ LEG coletado\n",
      "✅ LEN coletado\n",
      "✅ LH coletado\n",
      "✅ LHX coletado\n",
      "✅ LII coletado\n",
      "✅ LIN coletado\n",
      "✅ LKQ coletado\n",
      "✅ LLY coletado\n",
      "✅ LMT coletado\n"
     ]
    },
    {
     "name": "stderr",
     "output_type": "stream",
     "text": [
      "C:\\Users\\João Paulo Bussi\\AppData\\Local\\Temp\\ipykernel_12892\\3221935595.py:42: FutureWarning: The behavior of DataFrame concatenation with empty or all-NA entries is deprecated. In a future version, this will no longer exclude empty or all-NA columns when determining the result dtypes. To retain the old behavior, exclude the relevant entries before the concat operation.\n",
      "  df_info = pd.concat([df_info, pd.DataFrame([info])], ignore_index=True)\n"
     ]
    },
    {
     "name": "stdout",
     "output_type": "stream",
     "text": [
      "✅ LNC coletado\n",
      "350/635 tickers processados\n",
      "✅ LNT coletado\n",
      "✅ LOW coletado\n",
      "✅ LRCX coletado\n",
      "✅ LULU coletado\n"
     ]
    },
    {
     "name": "stderr",
     "output_type": "stream",
     "text": [
      "C:\\Users\\João Paulo Bussi\\AppData\\Local\\Temp\\ipykernel_12892\\3221935595.py:42: FutureWarning: The behavior of DataFrame concatenation with empty or all-NA entries is deprecated. In a future version, this will no longer exclude empty or all-NA columns when determining the result dtypes. To retain the old behavior, exclude the relevant entries before the concat operation.\n",
      "  df_info = pd.concat([df_info, pd.DataFrame([info])], ignore_index=True)\n"
     ]
    },
    {
     "name": "stdout",
     "output_type": "stream",
     "text": [
      "✅ LUMN coletado\n",
      "✅ LUV coletado\n",
      "✅ LVS coletado\n",
      "✅ LW coletado\n",
      "✅ LYB coletado\n",
      "✅ LYV coletado\n",
      "✅ M coletado\n",
      "✅ MA coletado\n"
     ]
    },
    {
     "name": "stderr",
     "output_type": "stream",
     "text": [
      "C:\\Users\\João Paulo Bussi\\AppData\\Local\\Temp\\ipykernel_12892\\3221935595.py:42: FutureWarning: The behavior of DataFrame concatenation with empty or all-NA entries is deprecated. In a future version, this will no longer exclude empty or all-NA columns when determining the result dtypes. To retain the old behavior, exclude the relevant entries before the concat operation.\n",
      "  df_info = pd.concat([df_info, pd.DataFrame([info])], ignore_index=True)\n"
     ]
    },
    {
     "name": "stdout",
     "output_type": "stream",
     "text": [
      "✅ MAA coletado\n"
     ]
    },
    {
     "name": "stderr",
     "output_type": "stream",
     "text": [
      "C:\\Users\\João Paulo Bussi\\AppData\\Local\\Temp\\ipykernel_12892\\3221935595.py:42: FutureWarning: The behavior of DataFrame concatenation with empty or all-NA entries is deprecated. In a future version, this will no longer exclude empty or all-NA columns when determining the result dtypes. To retain the old behavior, exclude the relevant entries before the concat operation.\n",
      "  df_info = pd.concat([df_info, pd.DataFrame([info])], ignore_index=True)\n"
     ]
    },
    {
     "name": "stdout",
     "output_type": "stream",
     "text": [
      "✅ MAC coletado\n",
      "✅ MAR coletado\n",
      "✅ MAS coletado\n",
      "✅ MAT coletado\n"
     ]
    },
    {
     "name": "stderr",
     "output_type": "stream",
     "text": [
      "C:\\Users\\João Paulo Bussi\\AppData\\Local\\Temp\\ipykernel_12892\\3221935595.py:42: FutureWarning: The behavior of DataFrame concatenation with empty or all-NA entries is deprecated. In a future version, this will no longer exclude empty or all-NA columns when determining the result dtypes. To retain the old behavior, exclude the relevant entries before the concat operation.\n",
      "  df_info = pd.concat([df_info, pd.DataFrame([info])], ignore_index=True)\n"
     ]
    },
    {
     "name": "stdout",
     "output_type": "stream",
     "text": [
      "✅ MBC coletado\n"
     ]
    },
    {
     "name": "stderr",
     "output_type": "stream",
     "text": [
      "C:\\Users\\João Paulo Bussi\\AppData\\Local\\Temp\\ipykernel_12892\\3221935595.py:42: FutureWarning: The behavior of DataFrame concatenation with empty or all-NA entries is deprecated. In a future version, this will no longer exclude empty or all-NA columns when determining the result dtypes. To retain the old behavior, exclude the relevant entries before the concat operation.\n",
      "  df_info = pd.concat([df_info, pd.DataFrame([info])], ignore_index=True)\n"
     ]
    },
    {
     "name": "stdout",
     "output_type": "stream",
     "text": [
      "✅ MBI coletado\n",
      "✅ MCD coletado\n"
     ]
    },
    {
     "name": "stderr",
     "output_type": "stream",
     "text": [
      "C:\\Users\\João Paulo Bussi\\AppData\\Local\\Temp\\ipykernel_12892\\3221935595.py:42: FutureWarning: The behavior of DataFrame concatenation with empty or all-NA entries is deprecated. In a future version, this will no longer exclude empty or all-NA columns when determining the result dtypes. To retain the old behavior, exclude the relevant entries before the concat operation.\n",
      "  df_info = pd.concat([df_info, pd.DataFrame([info])], ignore_index=True)\n"
     ]
    },
    {
     "name": "stdout",
     "output_type": "stream",
     "text": [
      "✅ MCHP coletado\n",
      "✅ MCK coletado\n",
      "✅ MCO coletado\n",
      "✅ MDLZ coletado\n",
      "✅ MDT coletado\n",
      "✅ MET coletado\n",
      "✅ META coletado\n",
      "✅ MGM coletado\n"
     ]
    },
    {
     "name": "stderr",
     "output_type": "stream",
     "text": [
      "C:\\Users\\João Paulo Bussi\\AppData\\Local\\Temp\\ipykernel_12892\\3221935595.py:42: FutureWarning: The behavior of DataFrame concatenation with empty or all-NA entries is deprecated. In a future version, this will no longer exclude empty or all-NA columns when determining the result dtypes. To retain the old behavior, exclude the relevant entries before the concat operation.\n",
      "  df_info = pd.concat([df_info, pd.DataFrame([info])], ignore_index=True)\n"
     ]
    },
    {
     "name": "stdout",
     "output_type": "stream",
     "text": [
      "✅ MHK coletado\n"
     ]
    },
    {
     "name": "stderr",
     "output_type": "stream",
     "text": [
      "C:\\Users\\João Paulo Bussi\\AppData\\Local\\Temp\\ipykernel_12892\\3221935595.py:42: FutureWarning: The behavior of DataFrame concatenation with empty or all-NA entries is deprecated. In a future version, this will no longer exclude empty or all-NA columns when determining the result dtypes. To retain the old behavior, exclude the relevant entries before the concat operation.\n",
      "  df_info = pd.concat([df_info, pd.DataFrame([info])], ignore_index=True)\n"
     ]
    },
    {
     "name": "stdout",
     "output_type": "stream",
     "text": [
      "✅ MHS coletado\n"
     ]
    },
    {
     "name": "stderr",
     "output_type": "stream",
     "text": [
      "C:\\Users\\João Paulo Bussi\\AppData\\Local\\Temp\\ipykernel_12892\\3221935595.py:42: FutureWarning: The behavior of DataFrame concatenation with empty or all-NA entries is deprecated. In a future version, this will no longer exclude empty or all-NA columns when determining the result dtypes. To retain the old behavior, exclude the relevant entries before the concat operation.\n",
      "  df_info = pd.concat([df_info, pd.DataFrame([info])], ignore_index=True)\n"
     ]
    },
    {
     "name": "stdout",
     "output_type": "stream",
     "text": [
      "✅ MI coletado\n",
      "✅ MKC coletado\n",
      "✅ MKTX coletado\n"
     ]
    },
    {
     "name": "stderr",
     "output_type": "stream",
     "text": [
      "C:\\Users\\João Paulo Bussi\\AppData\\Local\\Temp\\ipykernel_12892\\3221935595.py:42: FutureWarning: The behavior of DataFrame concatenation with empty or all-NA entries is deprecated. In a future version, this will no longer exclude empty or all-NA columns when determining the result dtypes. To retain the old behavior, exclude the relevant entries before the concat operation.\n",
      "  df_info = pd.concat([df_info, pd.DataFrame([info])], ignore_index=True)\n"
     ]
    },
    {
     "name": "stdout",
     "output_type": "stream",
     "text": [
      "✅ MLM coletado\n",
      "✅ MMC coletado\n"
     ]
    },
    {
     "name": "stderr",
     "output_type": "stream",
     "text": [
      "C:\\Users\\João Paulo Bussi\\AppData\\Local\\Temp\\ipykernel_12892\\3221935595.py:42: FutureWarning: The behavior of DataFrame concatenation with empty or all-NA entries is deprecated. In a future version, this will no longer exclude empty or all-NA columns when determining the result dtypes. To retain the old behavior, exclude the relevant entries before the concat operation.\n",
      "  df_info = pd.concat([df_info, pd.DataFrame([info])], ignore_index=True)\n"
     ]
    },
    {
     "name": "stdout",
     "output_type": "stream",
     "text": [
      "✅ MMI coletado\n",
      "✅ MNST coletado\n"
     ]
    },
    {
     "name": "stderr",
     "output_type": "stream",
     "text": [
      "C:\\Users\\João Paulo Bussi\\AppData\\Local\\Temp\\ipykernel_12892\\3221935595.py:42: FutureWarning: The behavior of DataFrame concatenation with empty or all-NA entries is deprecated. In a future version, this will no longer exclude empty or all-NA columns when determining the result dtypes. To retain the old behavior, exclude the relevant entries before the concat operation.\n",
      "  df_info = pd.concat([df_info, pd.DataFrame([info])], ignore_index=True)\n"
     ]
    },
    {
     "name": "stdout",
     "output_type": "stream",
     "text": [
      "✅ MO coletado\n"
     ]
    },
    {
     "name": "stderr",
     "output_type": "stream",
     "text": [
      "C:\\Users\\João Paulo Bussi\\AppData\\Local\\Temp\\ipykernel_12892\\3221935595.py:42: FutureWarning: The behavior of DataFrame concatenation with empty or all-NA entries is deprecated. In a future version, this will no longer exclude empty or all-NA columns when determining the result dtypes. To retain the old behavior, exclude the relevant entries before the concat operation.\n",
      "  df_info = pd.concat([df_info, pd.DataFrame([info])], ignore_index=True)\n"
     ]
    },
    {
     "name": "stdout",
     "output_type": "stream",
     "text": [
      "✅ MOH coletado\n",
      "✅ MOS coletado\n",
      "✅ MPC coletado\n"
     ]
    },
    {
     "name": "stderr",
     "output_type": "stream",
     "text": [
      "C:\\Users\\João Paulo Bussi\\AppData\\Local\\Temp\\ipykernel_12892\\3221935595.py:42: FutureWarning: The behavior of DataFrame concatenation with empty or all-NA entries is deprecated. In a future version, this will no longer exclude empty or all-NA columns when determining the result dtypes. To retain the old behavior, exclude the relevant entries before the concat operation.\n",
      "  df_info = pd.concat([df_info, pd.DataFrame([info])], ignore_index=True)\n"
     ]
    },
    {
     "name": "stdout",
     "output_type": "stream",
     "text": [
      "✅ MPWR coletado\n",
      "✅ MRK coletado\n"
     ]
    },
    {
     "name": "stderr",
     "output_type": "stream",
     "text": [
      "C:\\Users\\João Paulo Bussi\\AppData\\Local\\Temp\\ipykernel_12892\\3221935595.py:42: FutureWarning: The behavior of DataFrame concatenation with empty or all-NA entries is deprecated. In a future version, this will no longer exclude empty or all-NA columns when determining the result dtypes. To retain the old behavior, exclude the relevant entries before the concat operation.\n",
      "  df_info = pd.concat([df_info, pd.DataFrame([info])], ignore_index=True)\n"
     ]
    },
    {
     "name": "stdout",
     "output_type": "stream",
     "text": [
      "✅ MRNA coletado\n",
      "✅ MS coletado\n",
      "✅ MSCI coletado\n",
      "✅ MSFT coletado\n",
      "✅ MSI coletado\n",
      "✅ MTB coletado\n",
      "✅ MTCH coletado\n",
      "400/635 tickers processados\n",
      "✅ MTD coletado\n",
      "✅ MU coletado\n"
     ]
    },
    {
     "name": "stderr",
     "output_type": "stream",
     "text": [
      "C:\\Users\\João Paulo Bussi\\AppData\\Local\\Temp\\ipykernel_12892\\3221935595.py:42: FutureWarning: The behavior of DataFrame concatenation with empty or all-NA entries is deprecated. In a future version, this will no longer exclude empty or all-NA columns when determining the result dtypes. To retain the old behavior, exclude the relevant entries before the concat operation.\n",
      "  df_info = pd.concat([df_info, pd.DataFrame([info])], ignore_index=True)\n"
     ]
    },
    {
     "name": "stdout",
     "output_type": "stream",
     "text": [
      "✅ MUR coletado\n"
     ]
    },
    {
     "name": "stderr",
     "output_type": "stream",
     "text": [
      "C:\\Users\\João Paulo Bussi\\AppData\\Local\\Temp\\ipykernel_12892\\3221935595.py:42: FutureWarning: The behavior of DataFrame concatenation with empty or all-NA entries is deprecated. In a future version, this will no longer exclude empty or all-NA columns when determining the result dtypes. To retain the old behavior, exclude the relevant entries before the concat operation.\n",
      "  df_info = pd.concat([df_info, pd.DataFrame([info])], ignore_index=True)\n"
     ]
    },
    {
     "name": "stdout",
     "output_type": "stream",
     "text": [
      "✅ NAVI coletado\n"
     ]
    },
    {
     "name": "stderr",
     "output_type": "stream",
     "text": [
      "C:\\Users\\João Paulo Bussi\\AppData\\Local\\Temp\\ipykernel_12892\\3221935595.py:42: FutureWarning: The behavior of DataFrame concatenation with empty or all-NA entries is deprecated. In a future version, this will no longer exclude empty or all-NA columns when determining the result dtypes. To retain the old behavior, exclude the relevant entries before the concat operation.\n",
      "  df_info = pd.concat([df_info, pd.DataFrame([info])], ignore_index=True)\n"
     ]
    },
    {
     "name": "stdout",
     "output_type": "stream",
     "text": [
      "✅ NBR coletado\n",
      "✅ NCLH coletado\n",
      "✅ NDAQ coletado\n",
      "✅ NDSN coletado\n"
     ]
    },
    {
     "name": "stderr",
     "output_type": "stream",
     "text": [
      "C:\\Users\\João Paulo Bussi\\AppData\\Local\\Temp\\ipykernel_12892\\3221935595.py:42: FutureWarning: The behavior of DataFrame concatenation with empty or all-NA entries is deprecated. In a future version, this will no longer exclude empty or all-NA columns when determining the result dtypes. To retain the old behavior, exclude the relevant entries before the concat operation.\n",
      "  df_info = pd.concat([df_info, pd.DataFrame([info])], ignore_index=True)\n"
     ]
    },
    {
     "name": "stdout",
     "output_type": "stream",
     "text": [
      "✅ NE coletado\n",
      "✅ NEE coletado\n"
     ]
    },
    {
     "name": "stderr",
     "output_type": "stream",
     "text": [
      "C:\\Users\\João Paulo Bussi\\AppData\\Local\\Temp\\ipykernel_12892\\3221935595.py:42: FutureWarning: The behavior of DataFrame concatenation with empty or all-NA entries is deprecated. In a future version, this will no longer exclude empty or all-NA columns when determining the result dtypes. To retain the old behavior, exclude the relevant entries before the concat operation.\n",
      "  df_info = pd.concat([df_info, pd.DataFrame([info])], ignore_index=True)\n"
     ]
    },
    {
     "name": "stdout",
     "output_type": "stream",
     "text": [
      "✅ NEM coletado\n",
      "✅ NFLX coletado\n",
      "✅ NI coletado\n",
      "✅ NKE coletado\n"
     ]
    },
    {
     "name": "stderr",
     "output_type": "stream",
     "text": [
      "C:\\Users\\João Paulo Bussi\\AppData\\Local\\Temp\\ipykernel_12892\\3221935595.py:42: FutureWarning: The behavior of DataFrame concatenation with empty or all-NA entries is deprecated. In a future version, this will no longer exclude empty or all-NA columns when determining the result dtypes. To retain the old behavior, exclude the relevant entries before the concat operation.\n",
      "  df_info = pd.concat([df_info, pd.DataFrame([info])], ignore_index=True)\n"
     ]
    },
    {
     "name": "stdout",
     "output_type": "stream",
     "text": [
      "✅ NKTR coletado\n",
      "✅ NOC coletado\n"
     ]
    },
    {
     "name": "stderr",
     "output_type": "stream",
     "text": [
      "C:\\Users\\João Paulo Bussi\\AppData\\Local\\Temp\\ipykernel_12892\\3221935595.py:42: FutureWarning: The behavior of DataFrame concatenation with empty or all-NA entries is deprecated. In a future version, this will no longer exclude empty or all-NA columns when determining the result dtypes. To retain the old behavior, exclude the relevant entries before the concat operation.\n",
      "  df_info = pd.concat([df_info, pd.DataFrame([info])], ignore_index=True)\n"
     ]
    },
    {
     "name": "stdout",
     "output_type": "stream",
     "text": [
      "✅ NOV coletado\n",
      "✅ NOW coletado\n",
      "✅ NRG coletado\n",
      "✅ NSC coletado\n",
      "✅ NTAP coletado\n",
      "✅ NTRS coletado\n"
     ]
    },
    {
     "name": "stderr",
     "output_type": "stream",
     "text": [
      "C:\\Users\\João Paulo Bussi\\AppData\\Local\\Temp\\ipykernel_12892\\3221935595.py:42: FutureWarning: The behavior of DataFrame concatenation with empty or all-NA entries is deprecated. In a future version, this will no longer exclude empty or all-NA columns when determining the result dtypes. To retain the old behavior, exclude the relevant entries before the concat operation.\n",
      "  df_info = pd.concat([df_info, pd.DataFrame([info])], ignore_index=True)\n"
     ]
    },
    {
     "name": "stdout",
     "output_type": "stream",
     "text": [
      "✅ NUE coletado\n",
      "✅ NVDA coletado\n"
     ]
    },
    {
     "name": "stderr",
     "output_type": "stream",
     "text": [
      "C:\\Users\\João Paulo Bussi\\AppData\\Local\\Temp\\ipykernel_12892\\3221935595.py:42: FutureWarning: The behavior of DataFrame concatenation with empty or all-NA entries is deprecated. In a future version, this will no longer exclude empty or all-NA columns when determining the result dtypes. To retain the old behavior, exclude the relevant entries before the concat operation.\n",
      "  df_info = pd.concat([df_info, pd.DataFrame([info])], ignore_index=True)\n"
     ]
    },
    {
     "name": "stdout",
     "output_type": "stream",
     "text": [
      "✅ NVR coletado\n"
     ]
    },
    {
     "name": "stderr",
     "output_type": "stream",
     "text": [
      "C:\\Users\\João Paulo Bussi\\AppData\\Local\\Temp\\ipykernel_12892\\3221935595.py:42: FutureWarning: The behavior of DataFrame concatenation with empty or all-NA entries is deprecated. In a future version, this will no longer exclude empty or all-NA columns when determining the result dtypes. To retain the old behavior, exclude the relevant entries before the concat operation.\n",
      "  df_info = pd.concat([df_info, pd.DataFrame([info])], ignore_index=True)\n"
     ]
    },
    {
     "name": "stdout",
     "output_type": "stream",
     "text": [
      "✅ NWL coletado\n"
     ]
    },
    {
     "name": "stderr",
     "output_type": "stream",
     "text": [
      "C:\\Users\\João Paulo Bussi\\AppData\\Local\\Temp\\ipykernel_12892\\3221935595.py:42: FutureWarning: The behavior of DataFrame concatenation with empty or all-NA entries is deprecated. In a future version, this will no longer exclude empty or all-NA columns when determining the result dtypes. To retain the old behavior, exclude the relevant entries before the concat operation.\n",
      "  df_info = pd.concat([df_info, pd.DataFrame([info])], ignore_index=True)\n"
     ]
    },
    {
     "name": "stdout",
     "output_type": "stream",
     "text": [
      "✅ NWS coletado\n"
     ]
    },
    {
     "name": "stderr",
     "output_type": "stream",
     "text": [
      "C:\\Users\\João Paulo Bussi\\AppData\\Local\\Temp\\ipykernel_12892\\3221935595.py:42: FutureWarning: The behavior of DataFrame concatenation with empty or all-NA entries is deprecated. In a future version, this will no longer exclude empty or all-NA columns when determining the result dtypes. To retain the old behavior, exclude the relevant entries before the concat operation.\n",
      "  df_info = pd.concat([df_info, pd.DataFrame([info])], ignore_index=True)\n"
     ]
    },
    {
     "name": "stdout",
     "output_type": "stream",
     "text": [
      "✅ NWSA coletado\n",
      "✅ NXPI coletado\n"
     ]
    },
    {
     "name": "stderr",
     "output_type": "stream",
     "text": [
      "C:\\Users\\João Paulo Bussi\\AppData\\Local\\Temp\\ipykernel_12892\\3221935595.py:42: FutureWarning: The behavior of DataFrame concatenation with empty or all-NA entries is deprecated. In a future version, this will no longer exclude empty or all-NA columns when determining the result dtypes. To retain the old behavior, exclude the relevant entries before the concat operation.\n",
      "  df_info = pd.concat([df_info, pd.DataFrame([info])], ignore_index=True)\n"
     ]
    },
    {
     "name": "stdout",
     "output_type": "stream",
     "text": [
      "✅ NYT coletado\n"
     ]
    },
    {
     "name": "stderr",
     "output_type": "stream",
     "text": [
      "C:\\Users\\João Paulo Bussi\\AppData\\Local\\Temp\\ipykernel_12892\\3221935595.py:42: FutureWarning: The behavior of DataFrame concatenation with empty or all-NA entries is deprecated. In a future version, this will no longer exclude empty or all-NA columns when determining the result dtypes. To retain the old behavior, exclude the relevant entries before the concat operation.\n",
      "  df_info = pd.concat([df_info, pd.DataFrame([info])], ignore_index=True)\n"
     ]
    },
    {
     "name": "stdout",
     "output_type": "stream",
     "text": [
      "✅ O coletado\n",
      "✅ ODFL coletado\n",
      "✅ ODP coletado\n"
     ]
    },
    {
     "name": "stderr",
     "output_type": "stream",
     "text": [
      "C:\\Users\\João Paulo Bussi\\AppData\\Local\\Temp\\ipykernel_12892\\3221935595.py:42: FutureWarning: The behavior of DataFrame concatenation with empty or all-NA entries is deprecated. In a future version, this will no longer exclude empty or all-NA columns when determining the result dtypes. To retain the old behavior, exclude the relevant entries before the concat operation.\n",
      "  df_info = pd.concat([df_info, pd.DataFrame([info])], ignore_index=True)\n"
     ]
    },
    {
     "name": "stdout",
     "output_type": "stream",
     "text": [
      "✅ OGN coletado\n",
      "✅ OI coletado\n",
      "✅ OKE coletado\n",
      "✅ OMC coletado\n",
      "✅ ON coletado\n",
      "✅ ORCL coletado\n",
      "✅ ORLY coletado\n",
      "✅ OTIS coletado\n",
      "✅ OXY coletado\n",
      "✅ PANW coletado\n",
      "✅ PAYC coletado\n",
      "✅ PAYX coletado\n",
      "✅ PBI coletado\n",
      "✅ PCAR coletado\n",
      "✅ PCG coletado\n"
     ]
    },
    {
     "name": "stderr",
     "output_type": "stream",
     "text": [
      "C:\\Users\\João Paulo Bussi\\AppData\\Local\\Temp\\ipykernel_12892\\3221935595.py:42: FutureWarning: The behavior of DataFrame concatenation with empty or all-NA entries is deprecated. In a future version, this will no longer exclude empty or all-NA columns when determining the result dtypes. To retain the old behavior, exclude the relevant entries before the concat operation.\n",
      "  df_info = pd.concat([df_info, pd.DataFrame([info])], ignore_index=True)\n"
     ]
    },
    {
     "name": "stdout",
     "output_type": "stream",
     "text": [
      "✅ PCL coletado\n"
     ]
    },
    {
     "name": "stderr",
     "output_type": "stream",
     "text": [
      "C:\\Users\\João Paulo Bussi\\AppData\\Local\\Temp\\ipykernel_12892\\3221935595.py:42: FutureWarning: The behavior of DataFrame concatenation with empty or all-NA entries is deprecated. In a future version, this will no longer exclude empty or all-NA columns when determining the result dtypes. To retain the old behavior, exclude the relevant entries before the concat operation.\n",
      "  df_info = pd.concat([df_info, pd.DataFrame([info])], ignore_index=True)\n"
     ]
    },
    {
     "name": "stdout",
     "output_type": "stream",
     "text": [
      "✅ PCS coletado\n",
      "450/635 tickers processados\n",
      "✅ PEG coletado\n"
     ]
    },
    {
     "name": "stderr",
     "output_type": "stream",
     "text": [
      "C:\\Users\\João Paulo Bussi\\AppData\\Local\\Temp\\ipykernel_12892\\3221935595.py:42: FutureWarning: The behavior of DataFrame concatenation with empty or all-NA entries is deprecated. In a future version, this will no longer exclude empty or all-NA columns when determining the result dtypes. To retain the old behavior, exclude the relevant entries before the concat operation.\n",
      "  df_info = pd.concat([df_info, pd.DataFrame([info])], ignore_index=True)\n"
     ]
    },
    {
     "name": "stdout",
     "output_type": "stream",
     "text": [
      "✅ PENN coletado\n",
      "✅ PEP coletado\n",
      "✅ PFE coletado\n"
     ]
    },
    {
     "name": "stderr",
     "output_type": "stream",
     "text": [
      "C:\\Users\\João Paulo Bussi\\AppData\\Local\\Temp\\ipykernel_12892\\3221935595.py:42: FutureWarning: The behavior of DataFrame concatenation with empty or all-NA entries is deprecated. In a future version, this will no longer exclude empty or all-NA columns when determining the result dtypes. To retain the old behavior, exclude the relevant entries before the concat operation.\n",
      "  df_info = pd.concat([df_info, pd.DataFrame([info])], ignore_index=True)\n"
     ]
    },
    {
     "name": "stdout",
     "output_type": "stream",
     "text": [
      "✅ PFG coletado\n",
      "✅ PG coletado\n",
      "✅ PGR coletado\n",
      "✅ PH coletado\n",
      "✅ PHM coletado\n",
      "✅ PKG coletado\n"
     ]
    },
    {
     "name": "stderr",
     "output_type": "stream",
     "text": [
      "C:\\Users\\João Paulo Bussi\\AppData\\Local\\Temp\\ipykernel_12892\\3221935595.py:42: FutureWarning: The behavior of DataFrame concatenation with empty or all-NA entries is deprecated. In a future version, this will no longer exclude empty or all-NA columns when determining the result dtypes. To retain the old behavior, exclude the relevant entries before the concat operation.\n",
      "  df_info = pd.concat([df_info, pd.DataFrame([info])], ignore_index=True)\n"
     ]
    },
    {
     "name": "stdout",
     "output_type": "stream",
     "text": [
      "✅ PLD coletado\n"
     ]
    },
    {
     "name": "stderr",
     "output_type": "stream",
     "text": [
      "C:\\Users\\João Paulo Bussi\\AppData\\Local\\Temp\\ipykernel_12892\\3221935595.py:42: FutureWarning: The behavior of DataFrame concatenation with empty or all-NA entries is deprecated. In a future version, this will no longer exclude empty or all-NA columns when determining the result dtypes. To retain the old behavior, exclude the relevant entries before the concat operation.\n",
      "  df_info = pd.concat([df_info, pd.DataFrame([info])], ignore_index=True)\n"
     ]
    },
    {
     "name": "stdout",
     "output_type": "stream",
     "text": [
      "✅ PLL coletado\n",
      "✅ PLTR coletado\n",
      "✅ PM coletado\n",
      "✅ PNC coletado\n",
      "✅ PNR coletado\n",
      "✅ PNW coletado\n",
      "✅ PODD coletado\n"
     ]
    },
    {
     "name": "stderr",
     "output_type": "stream",
     "text": [
      "C:\\Users\\João Paulo Bussi\\AppData\\Local\\Temp\\ipykernel_12892\\3221935595.py:42: FutureWarning: The behavior of DataFrame concatenation with empty or all-NA entries is deprecated. In a future version, this will no longer exclude empty or all-NA columns when determining the result dtypes. To retain the old behavior, exclude the relevant entries before the concat operation.\n",
      "  df_info = pd.concat([df_info, pd.DataFrame([info])], ignore_index=True)\n"
     ]
    },
    {
     "name": "stdout",
     "output_type": "stream",
     "text": [
      "✅ POOL coletado\n",
      "✅ PPG coletado\n",
      "✅ PPL coletado\n"
     ]
    },
    {
     "name": "stderr",
     "output_type": "stream",
     "text": [
      "C:\\Users\\João Paulo Bussi\\AppData\\Local\\Temp\\ipykernel_12892\\3221935595.py:42: FutureWarning: The behavior of DataFrame concatenation with empty or all-NA entries is deprecated. In a future version, this will no longer exclude empty or all-NA columns when determining the result dtypes. To retain the old behavior, exclude the relevant entries before the concat operation.\n",
      "  df_info = pd.concat([df_info, pd.DataFrame([info])], ignore_index=True)\n"
     ]
    },
    {
     "name": "stdout",
     "output_type": "stream",
     "text": [
      "✅ PRGO coletado\n",
      "✅ PRU coletado\n",
      "✅ PSA coletado\n",
      "✅ PSKY coletado\n",
      "✅ PSX coletado\n",
      "✅ PTC coletado\n",
      "✅ PVH coletado\n",
      "✅ PWR coletado\n",
      "✅ PYPL coletado\n",
      "✅ QCOM coletado\n",
      "✅ QRVO coletado\n"
     ]
    },
    {
     "name": "stderr",
     "output_type": "stream",
     "text": [
      "C:\\Users\\João Paulo Bussi\\AppData\\Local\\Temp\\ipykernel_12892\\3221935595.py:42: FutureWarning: The behavior of DataFrame concatenation with empty or all-NA entries is deprecated. In a future version, this will no longer exclude empty or all-NA columns when determining the result dtypes. To retain the old behavior, exclude the relevant entries before the concat operation.\n",
      "  df_info = pd.concat([df_info, pd.DataFrame([info])], ignore_index=True)\n"
     ]
    },
    {
     "name": "stdout",
     "output_type": "stream",
     "text": [
      "✅ R coletado\n",
      "✅ RCL coletado\n",
      "✅ REG coletado\n",
      "✅ REGN coletado\n",
      "✅ RF coletado\n"
     ]
    },
    {
     "name": "stderr",
     "output_type": "stream",
     "text": [
      "C:\\Users\\João Paulo Bussi\\AppData\\Local\\Temp\\ipykernel_12892\\3221935595.py:42: FutureWarning: The behavior of DataFrame concatenation with empty or all-NA entries is deprecated. In a future version, this will no longer exclude empty or all-NA columns when determining the result dtypes. To retain the old behavior, exclude the relevant entries before the concat operation.\n",
      "  df_info = pd.concat([df_info, pd.DataFrame([info])], ignore_index=True)\n"
     ]
    },
    {
     "name": "stdout",
     "output_type": "stream",
     "text": [
      "✅ RHI coletado\n"
     ]
    },
    {
     "name": "stderr",
     "output_type": "stream",
     "text": [
      "C:\\Users\\João Paulo Bussi\\AppData\\Local\\Temp\\ipykernel_12892\\3221935595.py:42: FutureWarning: The behavior of DataFrame concatenation with empty or all-NA entries is deprecated. In a future version, this will no longer exclude empty or all-NA columns when determining the result dtypes. To retain the old behavior, exclude the relevant entries before the concat operation.\n",
      "  df_info = pd.concat([df_info, pd.DataFrame([info])], ignore_index=True)\n"
     ]
    },
    {
     "name": "stdout",
     "output_type": "stream",
     "text": [
      "✅ RIG coletado\n",
      "✅ RJF coletado\n",
      "✅ RL coletado\n",
      "✅ RMD coletado\n",
      "✅ ROK coletado\n",
      "✅ ROL coletado\n",
      "✅ ROP coletado\n",
      "✅ ROST coletado\n",
      "✅ RRC coletado\n",
      "✅ RSG coletado\n",
      "✅ RTX coletado\n",
      "✅ RVTY coletado\n",
      "500/635 tickers processados\n"
     ]
    },
    {
     "name": "stderr",
     "output_type": "stream",
     "text": [
      "C:\\Users\\João Paulo Bussi\\AppData\\Local\\Temp\\ipykernel_12892\\3221935595.py:42: FutureWarning: The behavior of DataFrame concatenation with empty or all-NA entries is deprecated. In a future version, this will no longer exclude empty or all-NA columns when determining the result dtypes. To retain the old behavior, exclude the relevant entries before the concat operation.\n",
      "  df_info = pd.concat([df_info, pd.DataFrame([info])], ignore_index=True)\n"
     ]
    },
    {
     "name": "stdout",
     "output_type": "stream",
     "text": [
      "✅ S coletado\n",
      "✅ SBAC coletado\n"
     ]
    },
    {
     "name": "stderr",
     "output_type": "stream",
     "text": [
      "C:\\Users\\João Paulo Bussi\\AppData\\Local\\Temp\\ipykernel_12892\\3221935595.py:42: FutureWarning: The behavior of DataFrame concatenation with empty or all-NA entries is deprecated. In a future version, this will no longer exclude empty or all-NA columns when determining the result dtypes. To retain the old behavior, exclude the relevant entries before the concat operation.\n",
      "  df_info = pd.concat([df_info, pd.DataFrame([info])], ignore_index=True)\n"
     ]
    },
    {
     "name": "stdout",
     "output_type": "stream",
     "text": [
      "✅ SBNY coletado\n",
      "✅ SBUX coletado\n",
      "✅ SCHW coletado\n",
      "✅ SE coletado\n"
     ]
    },
    {
     "name": "stderr",
     "output_type": "stream",
     "text": [
      "C:\\Users\\João Paulo Bussi\\AppData\\Local\\Temp\\ipykernel_12892\\3221935595.py:42: FutureWarning: The behavior of DataFrame concatenation with empty or all-NA entries is deprecated. In a future version, this will no longer exclude empty or all-NA columns when determining the result dtypes. To retain the old behavior, exclude the relevant entries before the concat operation.\n",
      "  df_info = pd.concat([df_info, pd.DataFrame([info])], ignore_index=True)\n"
     ]
    },
    {
     "name": "stdout",
     "output_type": "stream",
     "text": [
      "✅ SEDG coletado\n",
      "✅ SEE coletado\n"
     ]
    },
    {
     "name": "stderr",
     "output_type": "stream",
     "text": [
      "C:\\Users\\João Paulo Bussi\\AppData\\Local\\Temp\\ipykernel_12892\\3221935595.py:42: FutureWarning: The behavior of DataFrame concatenation with empty or all-NA entries is deprecated. In a future version, this will no longer exclude empty or all-NA columns when determining the result dtypes. To retain the old behavior, exclude the relevant entries before the concat operation.\n",
      "  df_info = pd.concat([df_info, pd.DataFrame([info])], ignore_index=True)\n"
     ]
    },
    {
     "name": "stdout",
     "output_type": "stream",
     "text": [
      "✅ SHLD coletado\n",
      "✅ SHW coletado\n"
     ]
    },
    {
     "name": "stderr",
     "output_type": "stream",
     "text": [
      "C:\\Users\\João Paulo Bussi\\AppData\\Local\\Temp\\ipykernel_12892\\3221935595.py:42: FutureWarning: The behavior of DataFrame concatenation with empty or all-NA entries is deprecated. In a future version, this will no longer exclude empty or all-NA columns when determining the result dtypes. To retain the old behavior, exclude the relevant entries before the concat operation.\n",
      "  df_info = pd.concat([df_info, pd.DataFrame([info])], ignore_index=True)\n"
     ]
    },
    {
     "name": "stdout",
     "output_type": "stream",
     "text": [
      "✅ SIG coletado\n"
     ]
    },
    {
     "name": "stderr",
     "output_type": "stream",
     "text": [
      "C:\\Users\\João Paulo Bussi\\AppData\\Local\\Temp\\ipykernel_12892\\3221935595.py:42: FutureWarning: The behavior of DataFrame concatenation with empty or all-NA entries is deprecated. In a future version, this will no longer exclude empty or all-NA columns when determining the result dtypes. To retain the old behavior, exclude the relevant entries before the concat operation.\n",
      "  df_info = pd.concat([df_info, pd.DataFrame([info])], ignore_index=True)\n"
     ]
    },
    {
     "name": "stdout",
     "output_type": "stream",
     "text": [
      "✅ SII coletado\n"
     ]
    },
    {
     "name": "stderr",
     "output_type": "stream",
     "text": [
      "C:\\Users\\João Paulo Bussi\\AppData\\Local\\Temp\\ipykernel_12892\\3221935595.py:42: FutureWarning: The behavior of DataFrame concatenation with empty or all-NA entries is deprecated. In a future version, this will no longer exclude empty or all-NA columns when determining the result dtypes. To retain the old behavior, exclude the relevant entries before the concat operation.\n",
      "  df_info = pd.concat([df_info, pd.DataFrame([info])], ignore_index=True)\n"
     ]
    },
    {
     "name": "stdout",
     "output_type": "stream",
     "text": [
      "✅ SJM coletado\n",
      "✅ SLB coletado\n"
     ]
    },
    {
     "name": "stderr",
     "output_type": "stream",
     "text": [
      "C:\\Users\\João Paulo Bussi\\AppData\\Local\\Temp\\ipykernel_12892\\3221935595.py:42: FutureWarning: The behavior of DataFrame concatenation with empty or all-NA entries is deprecated. In a future version, this will no longer exclude empty or all-NA columns when determining the result dtypes. To retain the old behavior, exclude the relevant entries before the concat operation.\n",
      "  df_info = pd.concat([df_info, pd.DataFrame([info])], ignore_index=True)\n"
     ]
    },
    {
     "name": "stdout",
     "output_type": "stream",
     "text": [
      "✅ SLE coletado\n"
     ]
    },
    {
     "name": "stderr",
     "output_type": "stream",
     "text": [
      "C:\\Users\\João Paulo Bussi\\AppData\\Local\\Temp\\ipykernel_12892\\3221935595.py:42: FutureWarning: The behavior of DataFrame concatenation with empty or all-NA entries is deprecated. In a future version, this will no longer exclude empty or all-NA columns when determining the result dtypes. To retain the old behavior, exclude the relevant entries before the concat operation.\n",
      "  df_info = pd.concat([df_info, pd.DataFrame([info])], ignore_index=True)\n"
     ]
    },
    {
     "name": "stdout",
     "output_type": "stream",
     "text": [
      "✅ SLG coletado\n"
     ]
    },
    {
     "name": "stderr",
     "output_type": "stream",
     "text": [
      "C:\\Users\\João Paulo Bussi\\AppData\\Local\\Temp\\ipykernel_12892\\3221935595.py:42: FutureWarning: The behavior of DataFrame concatenation with empty or all-NA entries is deprecated. In a future version, this will no longer exclude empty or all-NA columns when determining the result dtypes. To retain the old behavior, exclude the relevant entries before the concat operation.\n",
      "  df_info = pd.concat([df_info, pd.DataFrame([info])], ignore_index=True)\n"
     ]
    },
    {
     "name": "stdout",
     "output_type": "stream",
     "text": [
      "✅ SLM coletado\n"
     ]
    },
    {
     "name": "stderr",
     "output_type": "stream",
     "text": [
      "C:\\Users\\João Paulo Bussi\\AppData\\Local\\Temp\\ipykernel_12892\\3221935595.py:42: FutureWarning: The behavior of DataFrame concatenation with empty or all-NA entries is deprecated. In a future version, this will no longer exclude empty or all-NA columns when determining the result dtypes. To retain the old behavior, exclude the relevant entries before the concat operation.\n",
      "  df_info = pd.concat([df_info, pd.DataFrame([info])], ignore_index=True)\n"
     ]
    },
    {
     "name": "stdout",
     "output_type": "stream",
     "text": [
      "✅ SMCI coletado\n",
      "✅ SNA coletado\n"
     ]
    },
    {
     "name": "stderr",
     "output_type": "stream",
     "text": [
      "C:\\Users\\João Paulo Bussi\\AppData\\Local\\Temp\\ipykernel_12892\\3221935595.py:42: FutureWarning: The behavior of DataFrame concatenation with empty or all-NA entries is deprecated. In a future version, this will no longer exclude empty or all-NA columns when determining the result dtypes. To retain the old behavior, exclude the relevant entries before the concat operation.\n",
      "  df_info = pd.concat([df_info, pd.DataFrame([info])], ignore_index=True)\n"
     ]
    },
    {
     "name": "stdout",
     "output_type": "stream",
     "text": [
      "✅ SNDK coletado\n",
      "✅ SNPS coletado\n",
      "✅ SO coletado\n"
     ]
    },
    {
     "name": "stderr",
     "output_type": "stream",
     "text": [
      "C:\\Users\\João Paulo Bussi\\AppData\\Local\\Temp\\ipykernel_12892\\3221935595.py:42: FutureWarning: The behavior of DataFrame concatenation with empty or all-NA entries is deprecated. In a future version, this will no longer exclude empty or all-NA columns when determining the result dtypes. To retain the old behavior, exclude the relevant entries before the concat operation.\n",
      "  df_info = pd.concat([df_info, pd.DataFrame([info])], ignore_index=True)\n"
     ]
    },
    {
     "name": "stdout",
     "output_type": "stream",
     "text": [
      "✅ SOLV coletado\n"
     ]
    },
    {
     "name": "stderr",
     "output_type": "stream",
     "text": [
      "C:\\Users\\João Paulo Bussi\\AppData\\Local\\Temp\\ipykernel_12892\\3221935595.py:42: FutureWarning: The behavior of DataFrame concatenation with empty or all-NA entries is deprecated. In a future version, this will no longer exclude empty or all-NA columns when determining the result dtypes. To retain the old behavior, exclude the relevant entries before the concat operation.\n",
      "  df_info = pd.concat([df_info, pd.DataFrame([info])], ignore_index=True)\n"
     ]
    },
    {
     "name": "stdout",
     "output_type": "stream",
     "text": [
      "✅ SPG coletado\n",
      "✅ SPGI coletado\n",
      "✅ SRE coletado\n",
      "✅ STE coletado\n"
     ]
    },
    {
     "name": "stderr",
     "output_type": "stream",
     "text": [
      "C:\\Users\\João Paulo Bussi\\AppData\\Local\\Temp\\ipykernel_12892\\3221935595.py:42: FutureWarning: The behavior of DataFrame concatenation with empty or all-NA entries is deprecated. In a future version, this will no longer exclude empty or all-NA columns when determining the result dtypes. To retain the old behavior, exclude the relevant entries before the concat operation.\n",
      "  df_info = pd.concat([df_info, pd.DataFrame([info])], ignore_index=True)\n"
     ]
    },
    {
     "name": "stdout",
     "output_type": "stream",
     "text": [
      "✅ STI coletado\n"
     ]
    },
    {
     "name": "stderr",
     "output_type": "stream",
     "text": [
      "C:\\Users\\João Paulo Bussi\\AppData\\Local\\Temp\\ipykernel_12892\\3221935595.py:42: FutureWarning: The behavior of DataFrame concatenation with empty or all-NA entries is deprecated. In a future version, this will no longer exclude empty or all-NA columns when determining the result dtypes. To retain the old behavior, exclude the relevant entries before the concat operation.\n",
      "  df_info = pd.concat([df_info, pd.DataFrame([info])], ignore_index=True)\n"
     ]
    },
    {
     "name": "stdout",
     "output_type": "stream",
     "text": [
      "✅ STLD coletado\n",
      "✅ STT coletado\n",
      "✅ STX coletado\n"
     ]
    },
    {
     "name": "stderr",
     "output_type": "stream",
     "text": [
      "C:\\Users\\João Paulo Bussi\\AppData\\Local\\Temp\\ipykernel_12892\\3221935595.py:42: FutureWarning: The behavior of DataFrame concatenation with empty or all-NA entries is deprecated. In a future version, this will no longer exclude empty or all-NA columns when determining the result dtypes. To retain the old behavior, exclude the relevant entries before the concat operation.\n",
      "  df_info = pd.concat([df_info, pd.DataFrame([info])], ignore_index=True)\n"
     ]
    },
    {
     "name": "stdout",
     "output_type": "stream",
     "text": [
      "✅ STZ coletado\n"
     ]
    },
    {
     "name": "stderr",
     "output_type": "stream",
     "text": [
      "C:\\Users\\João Paulo Bussi\\AppData\\Local\\Temp\\ipykernel_12892\\3221935595.py:42: FutureWarning: The behavior of DataFrame concatenation with empty or all-NA entries is deprecated. In a future version, this will no longer exclude empty or all-NA columns when determining the result dtypes. To retain the old behavior, exclude the relevant entries before the concat operation.\n",
      "  df_info = pd.concat([df_info, pd.DataFrame([info])], ignore_index=True)\n"
     ]
    },
    {
     "name": "stdout",
     "output_type": "stream",
     "text": [
      "✅ SUN coletado\n",
      "✅ SW coletado\n"
     ]
    },
    {
     "name": "stderr",
     "output_type": "stream",
     "text": [
      "C:\\Users\\João Paulo Bussi\\AppData\\Local\\Temp\\ipykernel_12892\\3221935595.py:42: FutureWarning: The behavior of DataFrame concatenation with empty or all-NA entries is deprecated. In a future version, this will no longer exclude empty or all-NA columns when determining the result dtypes. To retain the old behavior, exclude the relevant entries before the concat operation.\n",
      "  df_info = pd.concat([df_info, pd.DataFrame([info])], ignore_index=True)\n"
     ]
    },
    {
     "name": "stdout",
     "output_type": "stream",
     "text": [
      "✅ SWK coletado\n",
      "✅ SWKS coletado\n"
     ]
    },
    {
     "name": "stderr",
     "output_type": "stream",
     "text": [
      "C:\\Users\\João Paulo Bussi\\AppData\\Local\\Temp\\ipykernel_12892\\3221935595.py:42: FutureWarning: The behavior of DataFrame concatenation with empty or all-NA entries is deprecated. In a future version, this will no longer exclude empty or all-NA columns when determining the result dtypes. To retain the old behavior, exclude the relevant entries before the concat operation.\n",
      "  df_info = pd.concat([df_info, pd.DataFrame([info])], ignore_index=True)\n"
     ]
    },
    {
     "name": "stdout",
     "output_type": "stream",
     "text": [
      "✅ SYF coletado\n",
      "✅ SYK coletado\n",
      "✅ SYY coletado\n",
      "✅ T coletado\n",
      "✅ TAP coletado\n"
     ]
    },
    {
     "name": "stderr",
     "output_type": "stream",
     "text": [
      "C:\\Users\\João Paulo Bussi\\AppData\\Local\\Temp\\ipykernel_12892\\3221935595.py:42: FutureWarning: The behavior of DataFrame concatenation with empty or all-NA entries is deprecated. In a future version, this will no longer exclude empty or all-NA columns when determining the result dtypes. To retain the old behavior, exclude the relevant entries before the concat operation.\n",
      "  df_info = pd.concat([df_info, pd.DataFrame([info])], ignore_index=True)\n"
     ]
    },
    {
     "name": "stdout",
     "output_type": "stream",
     "text": [
      "✅ TDC coletado\n",
      "✅ TDG coletado\n"
     ]
    },
    {
     "name": "stderr",
     "output_type": "stream",
     "text": [
      "C:\\Users\\João Paulo Bussi\\AppData\\Local\\Temp\\ipykernel_12892\\3221935595.py:42: FutureWarning: The behavior of DataFrame concatenation with empty or all-NA entries is deprecated. In a future version, this will no longer exclude empty or all-NA columns when determining the result dtypes. To retain the old behavior, exclude the relevant entries before the concat operation.\n",
      "  df_info = pd.concat([df_info, pd.DataFrame([info])], ignore_index=True)\n"
     ]
    },
    {
     "name": "stdout",
     "output_type": "stream",
     "text": [
      "✅ TDY coletado\n"
     ]
    },
    {
     "name": "stderr",
     "output_type": "stream",
     "text": [
      "C:\\Users\\João Paulo Bussi\\AppData\\Local\\Temp\\ipykernel_12892\\3221935595.py:42: FutureWarning: The behavior of DataFrame concatenation with empty or all-NA entries is deprecated. In a future version, this will no longer exclude empty or all-NA columns when determining the result dtypes. To retain the old behavior, exclude the relevant entries before the concat operation.\n",
      "  df_info = pd.concat([df_info, pd.DataFrame([info])], ignore_index=True)\n"
     ]
    },
    {
     "name": "stdout",
     "output_type": "stream",
     "text": [
      "✅ TE coletado\n",
      "✅ TECH coletado\n",
      "✅ TEL coletado\n",
      "✅ TER coletado\n"
     ]
    },
    {
     "name": "stderr",
     "output_type": "stream",
     "text": [
      "C:\\Users\\João Paulo Bussi\\AppData\\Local\\Temp\\ipykernel_12892\\3221935595.py:42: FutureWarning: The behavior of DataFrame concatenation with empty or all-NA entries is deprecated. In a future version, this will no longer exclude empty or all-NA columns when determining the result dtypes. To retain the old behavior, exclude the relevant entries before the concat operation.\n",
      "  df_info = pd.concat([df_info, pd.DataFrame([info])], ignore_index=True)\n"
     ]
    },
    {
     "name": "stdout",
     "output_type": "stream",
     "text": [
      "✅ TFC coletado\n",
      "✅ TFX coletado\n",
      "550/635 tickers processados\n"
     ]
    },
    {
     "name": "stderr",
     "output_type": "stream",
     "text": [
      "C:\\Users\\João Paulo Bussi\\AppData\\Local\\Temp\\ipykernel_12892\\3221935595.py:42: FutureWarning: The behavior of DataFrame concatenation with empty or all-NA entries is deprecated. In a future version, this will no longer exclude empty or all-NA columns when determining the result dtypes. To retain the old behavior, exclude the relevant entries before the concat operation.\n",
      "  df_info = pd.concat([df_info, pd.DataFrame([info])], ignore_index=True)\n"
     ]
    },
    {
     "name": "stdout",
     "output_type": "stream",
     "text": [
      "✅ TGNA coletado\n",
      "✅ TGT coletado\n"
     ]
    },
    {
     "name": "stderr",
     "output_type": "stream",
     "text": [
      "C:\\Users\\João Paulo Bussi\\AppData\\Local\\Temp\\ipykernel_12892\\3221935595.py:42: FutureWarning: The behavior of DataFrame concatenation with empty or all-NA entries is deprecated. In a future version, this will no longer exclude empty or all-NA columns when determining the result dtypes. To retain the old behavior, exclude the relevant entries before the concat operation.\n",
      "  df_info = pd.concat([df_info, pd.DataFrame([info])], ignore_index=True)\n"
     ]
    },
    {
     "name": "stdout",
     "output_type": "stream",
     "text": [
      "✅ THC coletado\n",
      "✅ TJX coletado\n"
     ]
    },
    {
     "name": "stderr",
     "output_type": "stream",
     "text": [
      "C:\\Users\\João Paulo Bussi\\AppData\\Local\\Temp\\ipykernel_12892\\3221935595.py:42: FutureWarning: The behavior of DataFrame concatenation with empty or all-NA entries is deprecated. In a future version, this will no longer exclude empty or all-NA columns when determining the result dtypes. To retain the old behavior, exclude the relevant entries before the concat operation.\n",
      "  df_info = pd.concat([df_info, pd.DataFrame([info])], ignore_index=True)\n"
     ]
    },
    {
     "name": "stdout",
     "output_type": "stream",
     "text": [
      "✅ TKO coletado\n"
     ]
    },
    {
     "name": "stderr",
     "output_type": "stream",
     "text": [
      "C:\\Users\\João Paulo Bussi\\AppData\\Local\\Temp\\ipykernel_12892\\3221935595.py:42: FutureWarning: The behavior of DataFrame concatenation with empty or all-NA entries is deprecated. In a future version, this will no longer exclude empty or all-NA columns when determining the result dtypes. To retain the old behavior, exclude the relevant entries before the concat operation.\n",
      "  df_info = pd.concat([df_info, pd.DataFrame([info])], ignore_index=True)\n"
     ]
    },
    {
     "name": "stdout",
     "output_type": "stream",
     "text": [
      "✅ TMC coletado\n",
      "✅ TMO coletado\n",
      "✅ TMUS coletado\n"
     ]
    },
    {
     "name": "stderr",
     "output_type": "stream",
     "text": [
      "C:\\Users\\João Paulo Bussi\\AppData\\Local\\Temp\\ipykernel_12892\\3221935595.py:42: FutureWarning: The behavior of DataFrame concatenation with empty or all-NA entries is deprecated. In a future version, this will no longer exclude empty or all-NA columns when determining the result dtypes. To retain the old behavior, exclude the relevant entries before the concat operation.\n",
      "  df_info = pd.concat([df_info, pd.DataFrame([info])], ignore_index=True)\n"
     ]
    },
    {
     "name": "stdout",
     "output_type": "stream",
     "text": [
      "✅ TPL coletado\n",
      "✅ TPR coletado\n",
      "✅ TRGP coletado\n",
      "✅ TRIP coletado\n",
      "✅ TRMB coletado\n",
      "✅ TROW coletado\n",
      "✅ TRV coletado\n",
      "✅ TSCO coletado\n",
      "✅ TSLA coletado\n",
      "✅ TSN coletado\n",
      "✅ TT coletado\n",
      "✅ TTD coletado\n",
      "✅ TTWO coletado\n",
      "✅ TXN coletado\n",
      "✅ TXT coletado\n",
      "✅ TYL coletado\n"
     ]
    },
    {
     "name": "stderr",
     "output_type": "stream",
     "text": [
      "C:\\Users\\João Paulo Bussi\\AppData\\Local\\Temp\\ipykernel_12892\\3221935595.py:42: FutureWarning: The behavior of DataFrame concatenation with empty or all-NA entries is deprecated. In a future version, this will no longer exclude empty or all-NA columns when determining the result dtypes. To retain the old behavior, exclude the relevant entries before the concat operation.\n",
      "  df_info = pd.concat([df_info, pd.DataFrame([info])], ignore_index=True)\n"
     ]
    },
    {
     "name": "stdout",
     "output_type": "stream",
     "text": [
      "✅ UA coletado\n"
     ]
    },
    {
     "name": "stderr",
     "output_type": "stream",
     "text": [
      "C:\\Users\\João Paulo Bussi\\AppData\\Local\\Temp\\ipykernel_12892\\3221935595.py:42: FutureWarning: The behavior of DataFrame concatenation with empty or all-NA entries is deprecated. In a future version, this will no longer exclude empty or all-NA columns when determining the result dtypes. To retain the old behavior, exclude the relevant entries before the concat operation.\n",
      "  df_info = pd.concat([df_info, pd.DataFrame([info])], ignore_index=True)\n"
     ]
    },
    {
     "name": "stdout",
     "output_type": "stream",
     "text": [
      "✅ UAA coletado\n",
      "✅ UAL coletado\n",
      "✅ UBER coletado\n"
     ]
    },
    {
     "name": "stderr",
     "output_type": "stream",
     "text": [
      "C:\\Users\\João Paulo Bussi\\AppData\\Local\\Temp\\ipykernel_12892\\3221935595.py:42: FutureWarning: The behavior of DataFrame concatenation with empty or all-NA entries is deprecated. In a future version, this will no longer exclude empty or all-NA columns when determining the result dtypes. To retain the old behavior, exclude the relevant entries before the concat operation.\n",
      "  df_info = pd.concat([df_info, pd.DataFrame([info])], ignore_index=True)\n"
     ]
    },
    {
     "name": "stdout",
     "output_type": "stream",
     "text": [
      "✅ UDR coletado\n"
     ]
    },
    {
     "name": "stderr",
     "output_type": "stream",
     "text": [
      "C:\\Users\\João Paulo Bussi\\AppData\\Local\\Temp\\ipykernel_12892\\3221935595.py:42: FutureWarning: The behavior of DataFrame concatenation with empty or all-NA entries is deprecated. In a future version, this will no longer exclude empty or all-NA columns when determining the result dtypes. To retain the old behavior, exclude the relevant entries before the concat operation.\n",
      "  df_info = pd.concat([df_info, pd.DataFrame([info])], ignore_index=True)\n"
     ]
    },
    {
     "name": "stdout",
     "output_type": "stream",
     "text": [
      "✅ UHS coletado\n",
      "✅ ULTA coletado\n",
      "✅ UNH coletado\n"
     ]
    },
    {
     "name": "stderr",
     "output_type": "stream",
     "text": [
      "C:\\Users\\João Paulo Bussi\\AppData\\Local\\Temp\\ipykernel_12892\\3221935595.py:42: FutureWarning: The behavior of DataFrame concatenation with empty or all-NA entries is deprecated. In a future version, this will no longer exclude empty or all-NA columns when determining the result dtypes. To retain the old behavior, exclude the relevant entries before the concat operation.\n",
      "  df_info = pd.concat([df_info, pd.DataFrame([info])], ignore_index=True)\n"
     ]
    },
    {
     "name": "stdout",
     "output_type": "stream",
     "text": [
      "✅ UNM coletado\n",
      "✅ UNP coletado\n",
      "✅ UPS coletado\n",
      "✅ URBN coletado\n",
      "✅ URI coletado\n",
      "✅ USB coletado\n"
     ]
    },
    {
     "name": "stderr",
     "output_type": "stream",
     "text": [
      "C:\\Users\\João Paulo Bussi\\AppData\\Local\\Temp\\ipykernel_12892\\3221935595.py:42: FutureWarning: The behavior of DataFrame concatenation with empty or all-NA entries is deprecated. In a future version, this will no longer exclude empty or all-NA columns when determining the result dtypes. To retain the old behavior, exclude the relevant entries before the concat operation.\n",
      "  df_info = pd.concat([df_info, pd.DataFrame([info])], ignore_index=True)\n"
     ]
    },
    {
     "name": "stdout",
     "output_type": "stream",
     "text": [
      "✅ USL coletado\n",
      "✅ V coletado\n"
     ]
    },
    {
     "name": "stderr",
     "output_type": "stream",
     "text": [
      "C:\\Users\\João Paulo Bussi\\AppData\\Local\\Temp\\ipykernel_12892\\3221935595.py:42: FutureWarning: The behavior of DataFrame concatenation with empty or all-NA entries is deprecated. In a future version, this will no longer exclude empty or all-NA columns when determining the result dtypes. To retain the old behavior, exclude the relevant entries before the concat operation.\n",
      "  df_info = pd.concat([df_info, pd.DataFrame([info])], ignore_index=True)\n"
     ]
    },
    {
     "name": "stdout",
     "output_type": "stream",
     "text": [
      "✅ VFC coletado\n"
     ]
    },
    {
     "name": "stderr",
     "output_type": "stream",
     "text": [
      "C:\\Users\\João Paulo Bussi\\AppData\\Local\\Temp\\ipykernel_12892\\3221935595.py:42: FutureWarning: The behavior of DataFrame concatenation with empty or all-NA entries is deprecated. In a future version, this will no longer exclude empty or all-NA columns when determining the result dtypes. To retain the old behavior, exclude the relevant entries before the concat operation.\n",
      "  df_info = pd.concat([df_info, pd.DataFrame([info])], ignore_index=True)\n"
     ]
    },
    {
     "name": "stdout",
     "output_type": "stream",
     "text": [
      "✅ VICI coletado\n",
      "✅ VLO coletado\n",
      "✅ VLTO coletado\n",
      "✅ VMC coletado\n",
      "✅ VNO coletado\n",
      "✅ VNT coletado\n",
      "✅ VRSK coletado\n",
      "✅ VRSN coletado\n"
     ]
    },
    {
     "name": "stderr",
     "output_type": "stream",
     "text": [
      "C:\\Users\\João Paulo Bussi\\AppData\\Local\\Temp\\ipykernel_12892\\3221935595.py:42: FutureWarning: The behavior of DataFrame concatenation with empty or all-NA entries is deprecated. In a future version, this will no longer exclude empty or all-NA columns when determining the result dtypes. To retain the old behavior, exclude the relevant entries before the concat operation.\n",
      "  df_info = pd.concat([df_info, pd.DataFrame([info])], ignore_index=True)\n"
     ]
    },
    {
     "name": "stdout",
     "output_type": "stream",
     "text": [
      "✅ VRTX coletado\n",
      "600/635 tickers processados\n",
      "✅ VST coletado\n",
      "✅ VTR coletado\n",
      "✅ VTRS coletado\n",
      "✅ VZ coletado\n"
     ]
    },
    {
     "name": "stderr",
     "output_type": "stream",
     "text": [
      "C:\\Users\\João Paulo Bussi\\AppData\\Local\\Temp\\ipykernel_12892\\3221935595.py:42: FutureWarning: The behavior of DataFrame concatenation with empty or all-NA entries is deprecated. In a future version, this will no longer exclude empty or all-NA columns when determining the result dtypes. To retain the old behavior, exclude the relevant entries before the concat operation.\n",
      "  df_info = pd.concat([df_info, pd.DataFrame([info])], ignore_index=True)\n"
     ]
    },
    {
     "name": "stdout",
     "output_type": "stream",
     "text": [
      "✅ WAB coletado\n",
      "✅ WAT coletado\n"
     ]
    },
    {
     "name": "stderr",
     "output_type": "stream",
     "text": [
      "C:\\Users\\João Paulo Bussi\\AppData\\Local\\Temp\\ipykernel_12892\\3221935595.py:42: FutureWarning: The behavior of DataFrame concatenation with empty or all-NA entries is deprecated. In a future version, this will no longer exclude empty or all-NA columns when determining the result dtypes. To retain the old behavior, exclude the relevant entries before the concat operation.\n",
      "  df_info = pd.concat([df_info, pd.DataFrame([info])], ignore_index=True)\n"
     ]
    },
    {
     "name": "stdout",
     "output_type": "stream",
     "text": [
      "✅ WB coletado\n"
     ]
    },
    {
     "name": "stderr",
     "output_type": "stream",
     "text": [
      "C:\\Users\\João Paulo Bussi\\AppData\\Local\\Temp\\ipykernel_12892\\3221935595.py:42: FutureWarning: The behavior of DataFrame concatenation with empty or all-NA entries is deprecated. In a future version, this will no longer exclude empty or all-NA columns when determining the result dtypes. To retain the old behavior, exclude the relevant entries before the concat operation.\n",
      "  df_info = pd.concat([df_info, pd.DataFrame([info])], ignore_index=True)\n"
     ]
    },
    {
     "name": "stdout",
     "output_type": "stream",
     "text": [
      "✅ WBD coletado\n",
      "✅ WDAY coletado\n",
      "✅ WDC coletado\n",
      "✅ WEC coletado\n",
      "✅ WELL coletado\n",
      "✅ WFC coletado\n"
     ]
    },
    {
     "name": "stderr",
     "output_type": "stream",
     "text": [
      "C:\\Users\\João Paulo Bussi\\AppData\\Local\\Temp\\ipykernel_12892\\3221935595.py:42: FutureWarning: The behavior of DataFrame concatenation with empty or all-NA entries is deprecated. In a future version, this will no longer exclude empty or all-NA columns when determining the result dtypes. To retain the old behavior, exclude the relevant entries before the concat operation.\n",
      "  df_info = pd.concat([df_info, pd.DataFrame([info])], ignore_index=True)\n"
     ]
    },
    {
     "name": "stdout",
     "output_type": "stream",
     "text": [
      "✅ WHR coletado\n",
      "✅ WM coletado\n",
      "✅ WMB coletado\n",
      "✅ WMT coletado\n",
      "✅ WRB coletado\n",
      "✅ WSM coletado\n",
      "✅ WST coletado\n"
     ]
    },
    {
     "name": "stderr",
     "output_type": "stream",
     "text": [
      "C:\\Users\\João Paulo Bussi\\AppData\\Local\\Temp\\ipykernel_12892\\3221935595.py:42: FutureWarning: The behavior of DataFrame concatenation with empty or all-NA entries is deprecated. In a future version, this will no longer exclude empty or all-NA columns when determining the result dtypes. To retain the old behavior, exclude the relevant entries before the concat operation.\n",
      "  df_info = pd.concat([df_info, pd.DataFrame([info])], ignore_index=True)\n"
     ]
    },
    {
     "name": "stdout",
     "output_type": "stream",
     "text": [
      "✅ WTW coletado\n"
     ]
    },
    {
     "name": "stderr",
     "output_type": "stream",
     "text": [
      "C:\\Users\\João Paulo Bussi\\AppData\\Local\\Temp\\ipykernel_12892\\3221935595.py:42: FutureWarning: The behavior of DataFrame concatenation with empty or all-NA entries is deprecated. In a future version, this will no longer exclude empty or all-NA columns when determining the result dtypes. To retain the old behavior, exclude the relevant entries before the concat operation.\n",
      "  df_info = pd.concat([df_info, pd.DataFrame([info])], ignore_index=True)\n"
     ]
    },
    {
     "name": "stdout",
     "output_type": "stream",
     "text": [
      "✅ WU coletado\n",
      "✅ WY coletado\n",
      "✅ WYNN coletado\n",
      "✅ XEL coletado\n",
      "✅ XOM coletado\n",
      "✅ XRAY coletado\n"
     ]
    },
    {
     "name": "stderr",
     "output_type": "stream",
     "text": [
      "C:\\Users\\João Paulo Bussi\\AppData\\Local\\Temp\\ipykernel_12892\\3221935595.py:42: FutureWarning: The behavior of DataFrame concatenation with empty or all-NA entries is deprecated. In a future version, this will no longer exclude empty or all-NA columns when determining the result dtypes. To retain the old behavior, exclude the relevant entries before the concat operation.\n",
      "  df_info = pd.concat([df_info, pd.DataFrame([info])], ignore_index=True)\n"
     ]
    },
    {
     "name": "stdout",
     "output_type": "stream",
     "text": [
      "✅ XRX coletado\n",
      "✅ XYL coletado\n",
      "✅ XYZ coletado\n",
      "✅ YUM coletado\n",
      "✅ ZBH coletado\n",
      "✅ ZBRA coletado\n",
      "✅ ZION coletado\n",
      "✅ ZTS coletado\n",
      "✅ Todos os dados salvos!\n"
     ]
    }
   ],
   "source": [
    "import yfinance as yf\n",
    "import pandas as pd\n",
    "import time\n",
    "\n",
    "# Ler lista de tickers válidos\n",
    "df_tickers = pd.read_csv(\"valid_tickers.csv\")\n",
    "tickers = df_tickers[\"Ticker\"].tolist()\n",
    "\n",
    "# DataFrames para armazenar os dados\n",
    "df_prices = pd.DataFrame()\n",
    "df_info = pd.DataFrame()\n",
    "df_dividends = pd.DataFrame()\n",
    "df_splits = pd.DataFrame()\n",
    "\n",
    "# Função para extrair informações fundamentais\n",
    "def get_info_dict(ticker):\n",
    "    try:\n",
    "        t = yf.Ticker(ticker)\n",
    "        \n",
    "        # Preços históricos diários\n",
    "        hist = t.history(period=\"max\", interval=\"1d\").reset_index()\n",
    "        hist[\"Ticker\"] = ticker\n",
    "        global df_prices\n",
    "        df_prices = pd.concat([df_prices, hist], ignore_index=True)\n",
    "        \n",
    "        # Dividendos\n",
    "        divs = t.dividends.reset_index()\n",
    "        divs[\"Ticker\"] = ticker\n",
    "        global df_dividends\n",
    "        df_dividends = pd.concat([df_dividends, divs], ignore_index=True)\n",
    "        \n",
    "        # Splits\n",
    "        splits = t.splits.reset_index()\n",
    "        splits[\"Ticker\"] = ticker\n",
    "        global df_splits\n",
    "        df_splits = pd.concat([df_splits, splits], ignore_index=True)\n",
    "        \n",
    "        # Informações fundamentais\n",
    "        info = t.info\n",
    "        info[\"Ticker\"] = ticker\n",
    "        global df_info\n",
    "        df_info = pd.concat([df_info, pd.DataFrame([info])], ignore_index=True)\n",
    "        \n",
    "        print(f\"✅ {ticker} coletado\")\n",
    "    except Exception as e:\n",
    "        print(f\"❌ Erro em {ticker}: {e}\")\n",
    "\n",
    "# Loop por todos os tickers\n",
    "for i, ticker in enumerate(tickers):\n",
    "    get_info_dict(ticker)\n",
    "    # Delay para evitar bloqueio do Yahoo\n",
    "    time.sleep(0.5)\n",
    "    if (i+1) % 50 == 0:\n",
    "        print(f\"{i+1}/{len(tickers)} tickers processados\")\n",
    "\n",
    "# Salvar em CSV\n",
    "df_prices.to_csv(\"yf_prices.csv\", index=False)\n",
    "df_info.to_csv(\"yf_info.csv\", index=False)\n",
    "df_dividends.to_csv(\"yf_dividends.csv\", index=False)\n",
    "df_splits.to_csv(\"yf_splits.csv\", index=False)\n",
    "\n",
    "print(\"✅ Todos os dados salvos!\")"
   ]
  },
  {
   "cell_type": "code",
   "execution_count": null,
   "id": "405cacc6",
   "metadata": {},
   "outputs": [],
   "source": [
    "import yfinance as yf\n",
    "import pandas as pd\n",
    "\n",
    "# Lista de índices globais\n",
    "tickers = {\n",
    "    \"S&P500\": \"^GSPC\",\n",
    "    \"Nasdaq\": \"^IXIC\",\n",
    "    \"Ouro\": \"GC=F\",\n",
    "    \"VIX\": \"^VIX\"\n",
    "}\n",
    "\n",
    "dados_indices = {}\n",
    "\n",
    "for nome, ticker in tickers.items():\n",
    "    dados = yf.download(ticker, start=\"1900-01-01\", interval=\"1mo\")  # máximo disponível\n",
    "    dados[\"Nome\"] = nome\n",
    "    dados_indices[nome] = dados\n",
    "\n",
    "# Unir em um DataFrame multi-índice (nome, data)\n",
    "indices_df = pd.concat(dados_indices, names=[\"Indice\", \"Data\"])"
   ]
  }
 ],
 "metadata": {
  "kernelspec": {
   "display_name": "Python 3",
   "language": "python",
   "name": "python3"
  },
  "language_info": {
   "codemirror_mode": {
    "name": "ipython",
    "version": 3
   },
   "file_extension": ".py",
   "mimetype": "text/x-python",
   "name": "python",
   "nbconvert_exporter": "python",
   "pygments_lexer": "ipython3",
   "version": "3.12.10"
  }
 },
 "nbformat": 4,
 "nbformat_minor": 5
}
