{
 "cells": [
  {
   "cell_type": "markdown",
   "id": "333b9d6f",
   "metadata": {},
   "source": [
    "Importações e declarações de variaváveis utilizadas"
   ]
  },
  {
   "cell_type": "code",
   "execution_count": null,
   "id": "2e81d98d",
   "metadata": {},
   "outputs": [
    {
     "name": "stdout",
     "output_type": "stream",
     "text": [
      "Número de linhas e colunas:  (25, 5)\n",
      "   sepal_length sepal_width  petal_length petal_width    species\n",
      "0           5.1         3.5           1.4         0.2  duplicada\n",
      "1           5.1         3.5           1.4         0.2  duplicada\n",
      "2             ?           3           1.4         0.2     setosa\n",
      "3           4.7         3.2           1.3         0.2     setosa\n",
      "4           5.1         3.5           1.4         0.2  duplicada\n",
      "5           NaN         3.1           1.5         0.2     setosa\n",
      "6             5         3.6           1.4         0.2     setosa\n",
      "7           5.4         3.9           1.7         0.4  duplicada\n",
      "8           5.4         3.9           1.7         0.4  duplicada\n",
      "9           4.6         3.4           1.4         NaN     setosa\n",
      "10            5         3.4           1.5         0.2     setosa\n",
      "11          4.4         2.9           1.4         0.2  duplicada\n",
      "12          4.9         3.1           1.5         0.1     setosa\n",
      "13          5.4         3.7           1.5         0.2     setosa\n",
      "14          4.4         2.9           1.4         0.2  duplicada\n",
      "15          4.8         3.4           1.6         0.2     setosa\n",
      "16          4.8           3           1.4         0.1     setosa\n",
      "17          4.4         2.9           1.4         0.2  duplicada\n",
      "18          4.3           3           1.1         0.1     setosa\n",
      "19          5.8           4           1.2         0.2     setosa\n",
      "20          5.7         4.4           1.5         0.4     setosa\n",
      "21          5.4         3.9           1.3           ?     setosa\n",
      "22          5.1         3.5           1.4         0.3     setosa\n",
      "23          5.7           ?           1.7         0.3     setosa\n",
      "24          NaN         3.8           1.5         0.3     setosa\n"
     ]
    }
   ],
   "source": [
    "import pandas as pd\n",
    "import matplotlib.pyplot as plt\n",
    "import numpy as np\n",
    "import seaborn as sns\n",
    "\n",
    "data = pd.read_csv('data/iris-with-errors.csv', header=(0))\n",
    "print(\"Número de linhas e colunas: \", data.shape)\n",
    "print(data.head(30))\n",
    "\n",
    "datairis = pd.read_csv('data/iris.csv', header=(0))\n",
    "dataadvertising = pd.read_csv('data/Advertising.csv', header=(0))"
   ]
  },
  {
   "cell_type": "markdown",
   "id": "db946e2d",
   "metadata": {},
   "source": [
    "Questão 1"
   ]
  },
  {
   "cell_type": "code",
   "execution_count": 36,
   "id": "72e3ddf6",
   "metadata": {},
   "outputs": [
    {
     "name": "stdout",
     "output_type": "stream",
     "text": [
      "Número de linhas e colunas:  (14, 3)\n",
      "   sepal_length sepal_width  petal_length\n",
      "0           5.1         3.5           1.4\n",
      "3           4.7         3.2           1.3\n",
      "6             5         3.6           1.4\n",
      "7           5.4         3.9           1.7\n",
      "10            5         3.4           1.5\n",
      "11          4.4         2.9           1.4\n",
      "12          4.9         3.1           1.5\n",
      "13          5.4         3.7           1.5\n",
      "15          4.8         3.4           1.6\n",
      "16          4.8           3           1.4\n",
      "18          4.3           3           1.1\n",
      "19          5.8           4           1.2\n",
      "20          5.7         4.4           1.5\n",
      "22          5.1         3.5           1.4\n"
     ]
    }
   ],
   "source": [
    "data1 = data.copy()\n",
    "data1 = data1.replace('?', np.nan)\n",
    "data1 = data1.drop_duplicates()\n",
    "data1 = data1.dropna()\n",
    "data1 = data1.drop(data1.columns[-2:], axis=1)\n",
    "\n",
    "print(\"Número de linhas e colunas: \", data1.shape)\n",
    "print(data1.head(30))"
   ]
  },
  {
   "cell_type": "markdown",
   "id": "80ed4bda",
   "metadata": {},
   "source": [
    "Número de linhas: 14; número de colunas: 3"
   ]
  },
  {
   "cell_type": "markdown",
   "id": "0c7eac44",
   "metadata": {},
   "source": [
    "Questão 2"
   ]
  },
  {
   "cell_type": "code",
   "execution_count": 37,
   "id": "44c7adb9",
   "metadata": {},
   "outputs": [
    {
     "name": "stdout",
     "output_type": "stream",
     "text": [
      "Médias:  [5.02272727 3.4375     1.44       0.22608696]\n",
      "Medianas:  [5.05 3.45 1.4  0.2 ]\n",
      "    sepal_length  sepal_width  petal_length  petal_width    species\n",
      "0       5.100000       3.5000           1.4     0.200000  duplicada\n",
      "1       5.100000       3.5000           1.4     0.200000  duplicada\n",
      "2       5.022727       3.0000           1.4     0.200000     setosa\n",
      "3       4.700000       3.2000           1.3     0.200000     setosa\n",
      "4       5.100000       3.5000           1.4     0.200000  duplicada\n",
      "5       5.022727       3.1000           1.5     0.200000     setosa\n",
      "6       5.000000       3.6000           1.4     0.200000     setosa\n",
      "7       5.400000       3.9000           1.7     0.400000  duplicada\n",
      "8       5.400000       3.9000           1.7     0.400000  duplicada\n",
      "9       4.600000       3.4000           1.4     0.226087     setosa\n",
      "10      5.000000       3.4000           1.5     0.200000     setosa\n",
      "11      4.400000       2.9000           1.4     0.200000  duplicada\n",
      "12      4.900000       3.1000           1.5     0.100000     setosa\n",
      "13      5.400000       3.7000           1.5     0.200000     setosa\n",
      "14      4.400000       2.9000           1.4     0.200000  duplicada\n",
      "15      4.800000       3.4000           1.6     0.200000     setosa\n",
      "16      4.800000       3.0000           1.4     0.100000     setosa\n",
      "17      4.400000       2.9000           1.4     0.200000  duplicada\n",
      "18      4.300000       3.0000           1.1     0.100000     setosa\n",
      "19      5.800000       4.0000           1.2     0.200000     setosa\n",
      "20      5.700000       4.4000           1.5     0.400000     setosa\n",
      "21      5.400000       3.9000           1.3     0.226087     setosa\n",
      "22      5.100000       3.5000           1.4     0.300000     setosa\n",
      "23      5.700000       3.4375           1.7     0.300000     setosa\n",
      "24      5.022727       3.8000           1.5     0.300000     setosa\n"
     ]
    }
   ],
   "source": [
    "import numpy as np\n",
    "import pandas as pd\n",
    "\n",
    "data2 = data.copy()\n",
    "data2 = data2.replace('?', np.nan)\n",
    "colunas = data2.columns[0:data2.shape[1]-1]\n",
    "X = np.array(data2[colunas], dtype=float)\n",
    "medias = np.nanmean(X, axis=0)\n",
    "medianas = np.nanmedian(X, axis=0)\n",
    "\n",
    "for i in range(X.shape[0]):\n",
    "    for j in range(X.shape[1]):  \n",
    "        if np.isnan(X[i, j]):\n",
    "            X[i, j] = medias[j]\n",
    "\n",
    "data2 = pd.DataFrame(X, columns=colunas)\n",
    "data2[data.columns[-1]] = data[data.columns[-1]].values\n",
    "\n",
    "print(\"Médias: \", medias)\n",
    "print(\"Medianas: \", medianas)\n",
    "print(data2.head(30))"
   ]
  },
  {
   "cell_type": "markdown",
   "id": "9f8d3f64",
   "metadata": {},
   "source": [
    "As Medianas são [5.05 3.45 1.4  0.2 ]"
   ]
  },
  {
   "cell_type": "markdown",
   "id": "1ce7721f",
   "metadata": {},
   "source": [
    "Questão 3\n"
   ]
  },
  {
   "cell_type": "code",
   "execution_count": 40,
   "id": "cd428f25",
   "metadata": {},
   "outputs": [
    {
     "data": {
      "image/png": "[encoded data removed]",
      "text/plain": [
       "<Figure size 600x400 with 1 Axes>"
      ]
     },
     "metadata": {},
     "output_type": "display_data"
    },
    {
     "data": {
      "image/png": "[encoded data removed]",
      "text/plain": [
       "<Figure size 600x400 with 1 Axes>"
      ]
     },
     "metadata": {},
     "output_type": "display_data"
    },
    {
     "data": {
      "image/png": "[encoded data removed]",
      "text/plain": [
       "<Figure size 600x400 with 1 Axes>"
      ]
     },
     "metadata": {},
     "output_type": "display_data"
    },
    {
     "data": {
      "image/png": "[encoded data removed]",
      "text/plain": [
       "<Figure size 600x400 with 1 Axes>"
      ]
     },
     "metadata": {},
     "output_type": "display_data"
    }
   ],
   "source": [
    "\n",
    "data_numerica = datairis.select_dtypes(include='number')\n",
    "\n",
    "for coluna in data_numerica.columns:\n",
    "    plt.figure(figsize=(6,4))\n",
    "    sns.boxplot(y=datairis[coluna])\n",
    "    plt.title(f'Boxplot de {coluna}')\n",
    "    plt.ylabel(coluna)\n",
    "    plt.show()"
   ]
  },
  {
   "cell_type": "markdown",
   "id": "8fd5428e",
   "metadata": {},
   "source": [
    "A única coluna que possuí outliers é sepal_width"
   ]
  },
  {
   "cell_type": "markdown",
   "id": "f2bdee4b",
   "metadata": {},
   "source": [
    "Questão 4"
   ]
  },
  {
   "cell_type": "code",
   "execution_count": 41,
   "id": "893a91b2",
   "metadata": {},
   "outputs": [
    {
     "name": "stdout",
     "output_type": "stream",
     "text": [
      "            Unnamed: 0        TV     radio  newspaper     sales\n",
      "Unnamed: 0    1.000000  0.017715 -0.110680  -0.154944 -0.051616\n",
      "TV            0.017715  1.000000  0.054809   0.056648  0.782224\n",
      "radio        -0.110680  0.054809  1.000000   0.354104  0.576223\n",
      "newspaper    -0.154944  0.056648  0.354104   1.000000  0.228299\n",
      "sales        -0.051616  0.782224  0.576223   0.228299  1.000000\n"
     ]
    }
   ],
   "source": [
    "matriz_correlacao = dataadvertising.corr()\n",
    "print(matriz_correlacao)"
   ]
  },
  {
   "cell_type": "markdown",
   "id": "833751a7",
   "metadata": {},
   "source": [
    "Há maior correlação em sales e TV (0,782224)"
   ]
  }
 ],
 "metadata": {
  "kernelspec": {
   "display_name": "Python 3",
   "language": "python",
   "name": "python3"
  },
  "language_info": {
   "codemirror_mode": {
    "name": "ipython",
    "version": 3
   },
   "file_extension": ".py",
   "mimetype": "text/x-python",
   "name": "python",
   "nbconvert_exporter": "python",
   "pygments_lexer": "ipython3",
   "version": "3.12.10"
  }
 },
 "nbformat": 4,
 "nbformat_minor": 5
}
